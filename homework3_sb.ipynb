{
 "cells": [
  {
   "cell_type": "markdown",
   "metadata": {
    "Collapsed": "false"
   },
   "source": [
    "# Howework 3\n"
   ]
  },
  {
   "source": [
    "\n",
    "For the final howmeowrk assigment, my goal is to build a discrete even simulation (des) model.  The process I have chosen to analyze is the process of opening a bank account."
   ],
   "cell_type": "markdown",
   "metadata": {}
  },
  {
   "cell_type": "markdown",
   "metadata": {
    "Collapsed": "false"
   },
   "source": [
    "## Preliminaries"
   ]
  },
  {
   "cell_type": "code",
   "execution_count": 1,
   "metadata": {
    "Collapsed": "false"
   },
   "outputs": [],
   "source": [
    "# To auto-reload modules in jupyter notebook (so that changes in files *.py doesn't require manual reloading):\n",
    "# https://stackoverflow.com/questions/5364050/reloading-submodules-in-ipython\n",
    "%load_ext autoreload\n",
    "%autoreload 2"
   ]
  },
  {
   "cell_type": "markdown",
   "metadata": {
    "Collapsed": "false"
   },
   "source": [
    "Import commonly used libraries and magic command for inline plotting"
   ]
  },
  {
   "cell_type": "code",
   "execution_count": 2,
   "metadata": {
    "Collapsed": "false"
   },
   "outputs": [],
   "source": [
    "import math\n",
    "import numpy as np\n",
    "import pandas as pd\n",
    "from scipy import optimize\n",
    "from scipy.stats import expon\n",
    "import matplotlib.pyplot as plt\n",
    "import seaborn as sns\n",
    "from numpy.random import default_rng\n",
    "from IPython.display import Image\n",
    "import simpy\n",
    "\n",
    "from scipy.stats import expon\n"
   ]
  },
  {
   "cell_type": "code",
   "execution_count": 3,
   "metadata": {},
   "outputs": [],
   "source": [
    "%matplotlib inline"
   ]
  },
  {
   "cell_type": "markdown",
   "metadata": {
    "Collapsed": "false"
   },
   "source": [
    "## Work\n",
    "\n",
    "This is where work gets done."
   ]
  },
  {
   "cell_type": "code",
   "execution_count": 4,
   "metadata": {
    "Collapsed": "false"
   },
   "outputs": [],
   "source": [
    "# Simple clock\n",
    "\n",
    "def simple_clock(tick_size):\n",
    "    t = 0\n",
    "    while True:\n",
    "        print(f\"The time was {t} and you asked me to tick {tick_size} time units.\")\n",
    "        t += tick_size\n",
    "        yield t"
   ]
  },
  {
   "cell_type": "code",
   "execution_count": 5,
   "metadata": {},
   "outputs": [
    {
     "output_type": "stream",
     "name": "stdout",
     "text": [
      "The time was 0 and you asked me to tick 5 time units.\n5\nThe time was 5 and you asked me to tick 5 time units.\n10\nThe time was 10 and you asked me to tick 5 time units.\n15\n"
     ]
    }
   ],
   "source": [
    "clock = simple_clock(5)\n",
    "print(next(clock))\n",
    "print(next(clock))\n",
    "print(next(clock))"
   ]
  },
  {
   "cell_type": "code",
   "execution_count": 6,
   "metadata": {},
   "outputs": [
    {
     "output_type": "stream",
     "name": "stdout",
     "text": [
      "0.45855804438027437\n0.15021752731855942\n"
     ]
    }
   ],
   "source": [
    "# Random number generator\n",
    "rg = default_rng(seed=4470)\n",
    "print(rg.random())\n",
    "print(rg.random())"
   ]
  },
  {
   "cell_type": "code",
   "execution_count": null,
   "metadata": {},
   "outputs": [],
   "source": []
  },
  {
   "cell_type": "code",
   "execution_count": 16,
   "metadata": {},
   "outputs": [
    {
     "output_type": "error",
     "ename": "NameError",
     "evalue": "name 'customer_arrivals' is not defined",
     "traceback": [
      "\u001b[1;31m---------------------------------------------------------------------------\u001b[0m",
      "\u001b[1;31mNameError\u001b[0m                                 Traceback (most recent call last)",
      "\u001b[1;32m<ipython-input-16-1fa667393860>\u001b[0m in \u001b[0;36m<module>\u001b[1;34m\u001b[0m\n\u001b[0;32m      6\u001b[0m \u001b[0mruntime\u001b[0m \u001b[1;33m=\u001b[0m \u001b[1;36m25\u001b[0m\u001b[1;33m\u001b[0m\u001b[1;33m\u001b[0m\u001b[0m\n\u001b[0;32m      7\u001b[0m \u001b[0minterarrival_time\u001b[0m \u001b[1;33m=\u001b[0m \u001b[1;36m3.0\u001b[0m\u001b[1;33m\u001b[0m\u001b[1;33m\u001b[0m\u001b[0m\n\u001b[1;32m----> 8\u001b[1;33m \u001b[0menv1\u001b[0m\u001b[1;33m.\u001b[0m\u001b[0mprocess\u001b[0m\u001b[1;33m(\u001b[0m\u001b[0mcustomer_arrivals\u001b[0m\u001b[1;33m(\u001b[0m\u001b[0menv1\u001b[0m\u001b[1;33m,\u001b[0m \u001b[0minterarrival_time\u001b[0m\u001b[1;33m)\u001b[0m\u001b[1;33m)\u001b[0m\u001b[1;33m\u001b[0m\u001b[1;33m\u001b[0m\u001b[0m\n\u001b[0m\u001b[0;32m      9\u001b[0m \u001b[1;33m\u001b[0m\u001b[0m\n\u001b[0;32m     10\u001b[0m \u001b[1;31m# Run the simulation\u001b[0m\u001b[1;33m\u001b[0m\u001b[1;33m\u001b[0m\u001b[1;33m\u001b[0m\u001b[0m\n",
      "\u001b[1;31mNameError\u001b[0m: name 'customer_arrivals' is not defined"
     ]
    }
   ],
   "source": [
    "# Initialize a simulation environment\n",
    "env1 = simpy.Environment()\n",
    "\n",
    "# Create a process generator and start it and add it to the env\n",
    "# env.process() starts the patient_arrivals process and adds it to the environment\n",
    "runtime = 25\n",
    "interarrival_time = 3.0\n",
    "env1.process(customer_arrivals(env1, interarrival_time))\n",
    "\n",
    "# Run the simulation\n",
    "env1.run(until=runtime)"
   ]
  },
  {
   "cell_type": "code",
   "execution_count": 44,
   "metadata": {},
   "outputs": [],
   "source": [
    "# Import exponential distribution function from scipy.stats\n",
    "#from scipy.stats import expon\n",
    "# Set mean of this distribution to whatever we were using above for interarrival time\n",
    "mean_interarrival_time = interarrival_time\n",
    "# Create a random variable object based on the exponential distribution with the given mean\n",
    "rv_expon = expon(scale=mean_interarrival_time)"
   ]
  },
  {
   "cell_type": "code",
   "execution_count": null,
   "metadata": {},
   "outputs": [],
   "source": []
  },
  {
   "cell_type": "code",
   "execution_count": 104,
   "metadata": {},
   "outputs": [],
   "source": [
    "class Bank(object):\n",
    "    def __init__(self, env, num_greeters, num_bankers, rg):\n",
    "        # Simulation environment\n",
    "        self.env = env\n",
    "        self.rg = rg\n",
    "        \n",
    "        # Create list to hold timestamps dictionaries (one per patient)\n",
    "        self.timestamps_list = []\n",
    "       \n",
    "        # Create lists to hold occupancy tuples (time, occ)\n",
    "        self.cust_waiting_list = [(0.0, 0.0)]\n",
    "        self.cust_beinghelped_list = [(0.0, 0.0)]\n",
    "        \n",
    "        # Create resources\n",
    "        self.greeter = simpy.Resource(env, num_greeters)\n",
    "        self.banker = simpy.Resource(env, num_bankers)\n",
    "        #self.vaccinator = simpy.Resource(env, num_vaccinators)\n",
    "        #self.scheduler = simpy.Resource(env, num_schedulers)\n",
    "\n",
    "    # Create process methods - hard coding processing time distributions for now\n",
    "    # TODO - remove hard coding\n",
    "    # The patient argument is just a unique integer number\n",
    "    def sign_in(self, customer):\n",
    "        yield self.env.timeout(self.rg.normal(0.25, 0.05))\n",
    "\n",
    "    def wait_for_banker(self, customer):\n",
    "        yield self.env.timeout(self.rg.exponential(.3))\n",
    "        \n",
    "    def open_account(self, customer):\n",
    "        yield self.env.timeout(self.rg.exponential(2.0))\n",
    "    \n",
    "    # We assume all patients wait at least 15 minutes post-vaccination\n",
    "    # Some will choose to wait longer. This is the time beyond 15 minutes\n",
    "    # that patients wait.\n",
    "    #def wait_gt_15(self, patient):\n",
    "        #yield self.env.timeout(self.rg.exponential(0.5))\n",
    "        \n",
    "     #   print(f\"Customer {customer} created at time {env.now}\")"
   ]
  },
  {
   "cell_type": "code",
   "execution_count": 105,
   "metadata": {},
   "outputs": [],
   "source": [
    "def open_account(env, customer, bank, rg):\n",
    "    # Patient arrives to clinic - note the arrival time\n",
    "    arrival_ts = env.now\n",
    "\n",
    "    # Request a greeter to direct customer to wait for banker\n",
    "    # By using request() in a context manager, we'll automatically release the resource when done\n",
    "    with bank.greeter.request() as request:\n",
    "        yield request\n",
    "        # Now that we have a greeter, check temperature. Note time.\n",
    "        got_greeter_ts = env.now\n",
    "        yield env.process(bank.sign_in(customer))\n",
    "        release_greeter_ts = env.now\n",
    "\n",
    "    bank.cust_waiting_list.append((env.now, bank.cust_waiting_list[-1][1] + 1))\n",
    "\n",
    "    # Wait at least 15 minutes from time we finished getting vaccinated  - wait for banker\n",
    "    wait_time = env.now - release_greeter_ts\n",
    "    if wait_time < 15:\n",
    "        # Wait until 15 total minutes post vac\n",
    "        yield env.timeout(15 - wait_time)\n",
    "        # Wait random amount beyond 15 minutes\n",
    "        yield env.process(bank.wait_for_banker(customer))\n",
    "        release_wait_time = env.now\n",
    "\n",
    "\n",
    "        # Update postvac occupancy - decrement by 1\n",
    "   \n",
    "\n",
    "        bank.cust_waiting_list.append((env.now, bank.cust_waiting_list[-1][1] - 1))\n",
    "\n",
    "        bank.cust_beinghelped_list.append((env.now, bank.cust_beinghelped_list[-1][1] + 1))\n",
    "\n",
    "\n",
    "    # Request banker to help customer complete application\n",
    "  #  with bank.banker.request() as request:\n",
    "  #      yield request\n",
    "  #      got_open_account_ts = env.now\n",
    "  #      yield env.process(bank.open_account(customer))\n",
    "  #      release_open_account_ts = env.now\n",
    "\n",
    "    with bank.banker.request() as request:\n",
    "        yield request\n",
    "        got_banker_ts = env.now\n",
    "        # Update banker occupancy - increment by 1\n",
    "        pre_cust = bank.cust_beinghelped_list[-1][1]\n",
    "        new_cust = (env.now, pre_cust + 1)\n",
    "        bank.cust_beinghelped_list.append(new_cust)\n",
    "        yield env.process(bank.open_account(customer))\n",
    "        release_banker_ts = env.now\n",
    "\n",
    "        bank.cust_beinghelped_list.append((env.now, bank.cust_beinghelped_list[-1][1] - 1))\n",
    "\n",
    "    # Request reg staff to get registered\n",
    "    #with clinic.reg_staff.request() as request:\n",
    "     #   yield request\n",
    "      #  got_reg_ts = env.now\n",
    "       # yield env.process(bank.registration(patient))\n",
    "        #release_reg_ts = env.now\n",
    "        \n",
    "    # Request banker to help customer\n",
    "   # with clinic.vaccinator.request() as request:\n",
    "    #    yield request\n",
    "     #   got_banker_ts = env.now\n",
    "        # Update vac occupancy - increment by 1\n",
    "    #    prev_occ = clinic.vac_occupancy_list[-1][1]\n",
    "     #   new_occ = (env.now, prev_occ + 1)\n",
    "      #  bank.cust_beinghelped_list.append(new_occ)\n",
    "     #   yield env.process(clinic.vaccinate(customer))\n",
    "      #  release_vaccinator_ts = env.now\n",
    "\n",
    "\n",
    "        # Update vac occupancy - decrement by 1 - more compact code\n",
    "        # Note that clinic.vac_occupancy_list[-1] is the last tuple in the list\n",
    "        #  and that clinic.vac_occupancy_list[-1][1] is referencing the occupancy\n",
    "        #  value in the tuple (remember tuple elements are indexed starting with 0, so\n",
    "        #  the timestamp is at [0] and the occupancy is at [1]).\n",
    "        #  BTW, this suggests that perhaps using something known as \"namedtuples\" might\n",
    "        #  make our code more readable. See https://realpython.com/python-namedtuple/ \n",
    "        #  for a good introduction to namedtuples.\n",
    "       # bank.cust_waiting_list.append((env.now, bank.cust_waiting_list[-1][1] - 1))\n",
    "        \n",
    "        # Update postvac occupancy - increment by 1\n",
    "       # bank.cust_beinghelped_list.append((env.now, bank.cust_beinghelped_list[-1][1] + 1))\n",
    "\n",
    "    # Request scheduler to schedule second dose if needed\n",
    "    #if rg.random() < pct_first_dose:\n",
    "     #   with clinic.scheduler.request() as request:\n",
    "      #      yield request\n",
    "       #     got_scheduler_ts = env.now\n",
    "        #    yield env.process(clinic.schedule_dose_2(patient))\n",
    "         #   release_scheduler_ts = env.now\n",
    "    #else:\n",
    "     #   got_scheduler_ts = pd.NA\n",
    "      #  release_scheduler_ts = pd.NA\n",
    "        \n",
    "    # Wait at least 15 minutes from time we finished getting vaccinated  - wait for banker\n",
    "   # wait_for_banker = env.now - release_banker_ts\n",
    "   # if wait_time < 15:\n",
    "        # Wait until 15 total minutes post vac\n",
    "   #     yield env.timeout(15 - wait_time)\n",
    "        # Wait random amount beyond 15 minutes\n",
    "   #     yield env.process(clinic.cust_waiting_list(customer))\n",
    "   #     exit_system_ts = env.now\n",
    "        \n",
    "        # Update postvac occupancy - decrement by 1\n",
    "       # bank.cust_waiting_list.append((env.now, cust_waiting_list[-1][1] - 1))\n",
    "    \n",
    "    exit_system_ts = env.now    \n",
    "    #print(f\"Patient {patient} exited at time {env.now}\")\n",
    "\n",
    "    # Create dictionary of timestamps\n",
    "    timestamps = {'customer_id': customer,\n",
    "                  'arrival_ts': arrival_ts,\n",
    "                  'got_greeter_ts': got_greeter_ts,\n",
    "                  'release_greeter_ts': release_greeter_ts,\n",
    "                  'wait_time': wait_time,\n",
    "                  'release_wait_time': release_wait_time,\n",
    "                  'got_banker_ts': got_banker_ts,\n",
    "                  'release_banker_ts': release_banker_ts,\n",
    "                  'exit_system_ts': exit_system_ts}\n",
    "    \n",
    "    bank.timestamps_list.append(timestamps)"
   ]
  },
  {
   "cell_type": "code",
   "execution_count": 106,
   "metadata": {},
   "outputs": [],
   "source": [
    "# Running bank for specific hours\n",
    "\n",
    "def run_bank(env, bank, mean_interarrival_time, rg, \n",
    "               stoptime=simpy.core.Infinity, max_arrivals=simpy.core.Infinity):\n",
    "      \n",
    "    # Create a counter to keep track of number of patients generated and to serve as unique patient id\n",
    "    customer = 0\n",
    "\n",
    "    # Loop for generating patients\n",
    "    while env.now < stoptime and customer < max_arrivals:\n",
    "\n",
    "        # Generate next interarrival time (this will be more complicated later)\n",
    "        iat = rg.exponential(mean_interarrival_time)\n",
    "        \n",
    "        # This process will now yield to a 'timeout' event. This process will resume after iat time units.\n",
    "        yield env.timeout(iat)\n",
    "\n",
    "        # New patient generated = update counter of patients\n",
    "        customer += 1\n",
    "        \n",
    "        #print(f\"Patient {patient} created at time {env.now}\")\n",
    "\n",
    "        env.process(open_account(env, customer, bank, rg))\n"
   ]
  },
  {
   "cell_type": "code",
   "execution_count": 113,
   "metadata": {},
   "outputs": [],
   "source": [
    "def main():\n",
    "    \n",
    "    # For now we are hard coding the patient arrival rate (patients per hour)\n",
    "    customers_per_hour = 4\n",
    "    mean_interarrival_time = 1.0 / (customers_per_hour / 60.0)\n",
    "  #  pct_first_dose = 0.50\n",
    "    \n",
    "    # Create a random number generator\n",
    "    rg = default_rng(seed=4470)\n",
    "    \n",
    "    # For now we are going to hard code in the resource capacity levels \n",
    "    num_greeters = 1\n",
    "    num_bankers = 5\n",
    "    \n",
    "    # Hours of operation\n",
    "    stoptime = 480 # No more arrivals after this time\n",
    "    \n",
    "    # Create a simulation environment\n",
    "    env = simpy.Environment()\n",
    "    # Create a clinic to simulate\n",
    "    bank = Bank(env, num_greeters, num_bankers, rg)\n",
    "    \n",
    "    # Register the run_clinic (generator) function\n",
    "    env.process(run_bank(env, bank, mean_interarrival_time, rg, stoptime=stoptime))\n",
    "    # Actually run the simulation\n",
    "    env.run()\n",
    "    \n",
    "    # The simulation is over now, let's create the output csv files from \n",
    "    # the dataframes created by running the simulation model.\n",
    "    \n",
    "    # Output log files \n",
    "    bank_customer_log_df = pd.DataFrame(bank.timestamps_list)\n",
    "    bank_customer_log_df.to_csv('./output/bank_customer_log_df.csv', index=False)\n",
    "    \n",
    "    cust_waiting_df = pd.DataFrame(bank.cust_waiting_list, columns=['ts', 'occ'])\n",
    "    cust_waiting_df.to_csv('./output/cust_waiting_df.csv', index=False)    \n",
    "    \n",
    "    cust_beinghelped_df = pd.DataFrame(bank.cust_beinghelped_list, columns=['ts', 'occ'])\n",
    "    cust_beinghelped_df.to_csv('./output/cust_beinghelped_df.csv', index=False)\n",
    "    \n",
    "\n",
    "    # Note simulation end time\n",
    "    end_time = env.now\n",
    "    print(f\"Simulation ended at time {end_time}\")\n",
    "    return (end_time)\n"
   ]
  },
  {
   "cell_type": "code",
   "execution_count": 114,
   "metadata": {},
   "outputs": [
    {
     "output_type": "stream",
     "name": "stdout",
     "text": [
      "Simulation ended at time 523.6465163792469\n"
     ]
    }
   ],
   "source": [
    "bank_end_time = main()"
   ]
  },
  {
   "cell_type": "code",
   "execution_count": 115,
   "metadata": {},
   "outputs": [
    {
     "output_type": "stream",
     "name": "stdout",
     "text": [
      "<class 'pandas.core.frame.DataFrame'>\nRangeIndex: 33 entries, 0 to 32\nData columns (total 9 columns):\n #   Column              Non-Null Count  Dtype  \n---  ------              --------------  -----  \n 0   customer_id         33 non-null     int64  \n 1   arrival_ts          33 non-null     float64\n 2   got_greeter_ts      33 non-null     float64\n 3   release_greeter_ts  33 non-null     float64\n 4   wait_time           33 non-null     float64\n 5   release_wait_time   33 non-null     float64\n 6   got_banker_ts       33 non-null     float64\n 7   release_banker_ts   33 non-null     float64\n 8   exit_system_ts      33 non-null     float64\ndtypes: float64(8), int64(1)\nmemory usage: 2.4 KB\n"
     ]
    }
   ],
   "source": [
    "bank_customer_log_df = pd.read_csv('./output/bank_customer_log_df.csv')\n",
    "bank_customer_log_df.info()"
   ]
  },
  {
   "cell_type": "code",
   "execution_count": 116,
   "metadata": {},
   "outputs": [
    {
     "output_type": "execute_result",
     "data": {
      "text/plain": [
       "   customer_id  arrival_ts  got_greeter_ts  release_greeter_ts  wait_time  \\\n",
       "0            2   12.976768       12.976768           13.254339        0.0   \n",
       "1            1   11.662377       11.662377           11.837842        0.0   \n",
       "2            3   18.462901       18.462901           18.807007        0.0   \n",
       "3            4   32.296987       32.296987           32.532792        0.0   \n",
       "4            5   60.443282       60.443282           60.647596        0.0   \n",
       "\n",
       "   release_wait_time  got_banker_ts  release_banker_ts  exit_system_ts  \n",
       "0          28.304767      28.304767          28.385382       28.385382  \n",
       "1          27.049301      27.049301          28.885719       28.885719  \n",
       "2          34.014628      34.014628          34.154360       34.154360  \n",
       "3          47.573481      47.573481          48.074707       48.074707  \n",
       "4          75.930376      75.930376          77.049716       77.049716  "
      ],
      "text/html": "<div>\n<style scoped>\n    .dataframe tbody tr th:only-of-type {\n        vertical-align: middle;\n    }\n\n    .dataframe tbody tr th {\n        vertical-align: top;\n    }\n\n    .dataframe thead th {\n        text-align: right;\n    }\n</style>\n<table border=\"1\" class=\"dataframe\">\n  <thead>\n    <tr style=\"text-align: right;\">\n      <th></th>\n      <th>customer_id</th>\n      <th>arrival_ts</th>\n      <th>got_greeter_ts</th>\n      <th>release_greeter_ts</th>\n      <th>wait_time</th>\n      <th>release_wait_time</th>\n      <th>got_banker_ts</th>\n      <th>release_banker_ts</th>\n      <th>exit_system_ts</th>\n    </tr>\n  </thead>\n  <tbody>\n    <tr>\n      <th>0</th>\n      <td>2</td>\n      <td>12.976768</td>\n      <td>12.976768</td>\n      <td>13.254339</td>\n      <td>0.0</td>\n      <td>28.304767</td>\n      <td>28.304767</td>\n      <td>28.385382</td>\n      <td>28.385382</td>\n    </tr>\n    <tr>\n      <th>1</th>\n      <td>1</td>\n      <td>11.662377</td>\n      <td>11.662377</td>\n      <td>11.837842</td>\n      <td>0.0</td>\n      <td>27.049301</td>\n      <td>27.049301</td>\n      <td>28.885719</td>\n      <td>28.885719</td>\n    </tr>\n    <tr>\n      <th>2</th>\n      <td>3</td>\n      <td>18.462901</td>\n      <td>18.462901</td>\n      <td>18.807007</td>\n      <td>0.0</td>\n      <td>34.014628</td>\n      <td>34.014628</td>\n      <td>34.154360</td>\n      <td>34.154360</td>\n    </tr>\n    <tr>\n      <th>3</th>\n      <td>4</td>\n      <td>32.296987</td>\n      <td>32.296987</td>\n      <td>32.532792</td>\n      <td>0.0</td>\n      <td>47.573481</td>\n      <td>47.573481</td>\n      <td>48.074707</td>\n      <td>48.074707</td>\n    </tr>\n    <tr>\n      <th>4</th>\n      <td>5</td>\n      <td>60.443282</td>\n      <td>60.443282</td>\n      <td>60.647596</td>\n      <td>0.0</td>\n      <td>75.930376</td>\n      <td>75.930376</td>\n      <td>77.049716</td>\n      <td>77.049716</td>\n    </tr>\n  </tbody>\n</table>\n</div>"
     },
     "metadata": {},
     "execution_count": 116
    }
   ],
   "source": [
    "bank_customer_log_df.head()"
   ]
  },
  {
   "cell_type": "code",
   "execution_count": 117,
   "metadata": {},
   "outputs": [],
   "source": [
    "def compute_durations(timestamp_df):\n",
    "    \n",
    "    timestamp_df['wait_for_greeter'] = timestamp_df.loc[:, 'got_greeter_ts'] - timestamp_df.loc[:, 'arrival_ts']\n",
    "    timestamp_df['waiting_for_banker_time'] = timestamp_df.loc[:, 'release_wait_time'] - timestamp_df.loc[:, 'wait_time']\n",
    "    timestamp_df['open_account_time'] = timestamp_df.loc[:, 'release_banker_ts'] - timestamp_df.loc[:, 'got_banker_ts']\n",
    "    timestamp_df['time_in_system'] = timestamp_df.loc[:, 'exit_system_ts'] - timestamp_df.loc[:, 'arrival_ts']\n",
    "    \n",
    "    return timestamp_df"
   ]
  },
  {
   "cell_type": "code",
   "execution_count": 118,
   "metadata": {},
   "outputs": [
    {
     "output_type": "execute_result",
     "data": {
      "text/plain": [
       "    customer_id  arrival_ts  got_greeter_ts  release_greeter_ts  wait_time  \\\n",
       "0             2   12.976768       12.976768           13.254339        0.0   \n",
       "1             1   11.662377       11.662377           11.837842        0.0   \n",
       "2             3   18.462901       18.462901           18.807007        0.0   \n",
       "3             4   32.296987       32.296987           32.532792        0.0   \n",
       "4             5   60.443282       60.443282           60.647596        0.0   \n",
       "5             6   84.574873       84.574873           84.885865        0.0   \n",
       "6             7   93.609748       93.609748           93.882707        0.0   \n",
       "7             8  133.227974      133.227974          133.517088        0.0   \n",
       "8             9  151.651099      151.651099          151.830739        0.0   \n",
       "9            10  169.147750      169.147750          169.328541        0.0   \n",
       "10           11  188.805124      188.805124          189.081430        0.0   \n",
       "11           12  196.820566      196.820566          197.115478        0.0   \n",
       "12           14  208.656516      208.656516          209.016902        0.0   \n",
       "13           13  207.354830      207.354830          207.552853        0.0   \n",
       "14           15  213.974774      213.974774          214.132232        0.0   \n",
       "15           17  228.878778      228.878778          229.194997        0.0   \n",
       "16           16  227.208943      227.208943          227.467991        0.0   \n",
       "17           18  247.300607      247.300607          247.500484        0.0   \n",
       "18           19  262.322543      262.322543          262.597729        0.0   \n",
       "19           20  308.267433      308.267433          308.541518        0.0   \n",
       "20           21  324.214800      324.214800          324.507151        0.0   \n",
       "21           22  337.239284      337.239284          337.528736        0.0   \n",
       "22           23  337.255333      337.528736          337.750126        0.0   \n",
       "23           24  343.831696      343.831696          343.998456        0.0   \n",
       "24           26  358.283452      358.283452          358.533066        0.0   \n",
       "25           25  351.065094      351.065094          351.381609        0.0   \n",
       "26           27  370.934263      370.934263          371.171825        0.0   \n",
       "27           28  376.810684      376.810684          377.045846        0.0   \n",
       "28           29  379.083407      379.083407          379.240962        0.0   \n",
       "29           30  452.153931      452.153931          452.385387        0.0   \n",
       "30           31  459.111891      459.111891          459.359691        0.0   \n",
       "31           32  470.518888      470.518888          470.792434        0.0   \n",
       "32           33  507.358550      507.358550          507.598074        0.0   \n",
       "\n",
       "    release_wait_time  got_banker_ts  release_banker_ts  exit_system_ts  \\\n",
       "0           28.304767      28.304767          28.385382       28.385382   \n",
       "1           27.049301      27.049301          28.885719       28.885719   \n",
       "2           34.014628      34.014628          34.154360       34.154360   \n",
       "3           47.573481      47.573481          48.074707       48.074707   \n",
       "4           75.930376      75.930376          77.049716       77.049716   \n",
       "5           99.968380      99.968380         100.104523      100.104523   \n",
       "6          109.012480     109.012480         110.467431      110.467431   \n",
       "7          148.587658     148.587658         152.662892      152.662892   \n",
       "8          167.310248     167.310248         167.587457      167.587457   \n",
       "9          184.398872     184.398872         185.557612      185.557612   \n",
       "10         204.084612     204.084612         207.789597      207.789597   \n",
       "11         212.590873     212.590873         213.407177      213.407177   \n",
       "12         224.180587     224.180587         224.953712      224.953712   \n",
       "13         222.609851     222.609851         226.189288      226.189288   \n",
       "14         229.244596     229.244596         229.276274      229.276274   \n",
       "15         244.987352     244.987352         245.031379      245.031379   \n",
       "16         242.976350     242.976350         245.574472      245.574472   \n",
       "17         263.376140     263.376140         264.870825      264.870825   \n",
       "18         277.708672     277.708672         279.040785      279.040785   \n",
       "19         323.826208     323.826208         325.762224      325.762224   \n",
       "20         339.634195     339.634195         343.098404      343.098404   \n",
       "21         352.559145     352.559145         352.865128      352.865128   \n",
       "22         354.098668     354.098668         355.437817      355.437817   \n",
       "23         359.703969     359.703969         360.110713      360.110713   \n",
       "24         373.537545     373.537545         374.805433      374.805433   \n",
       "25         366.454048     366.454048         377.952095      377.952095   \n",
       "26         387.870471     387.870471         388.772039      388.772039   \n",
       "27         392.222898     392.222898         392.440229      392.440229   \n",
       "28         394.488754     394.488754         394.664135      394.664135   \n",
       "29         467.498324     467.498324         470.841620      470.841620   \n",
       "30         474.637193     474.637193         478.002049      478.002049   \n",
       "31         486.207606     486.207606         486.933220      486.933220   \n",
       "32         523.433872     523.433872         523.646516      523.646516   \n",
       "\n",
       "    wait_for_greeter  waiting_for_banker_time  open_account_time  \\\n",
       "0           0.000000                28.304767           0.080615   \n",
       "1           0.000000                27.049301           1.836418   \n",
       "2           0.000000                34.014628           0.139732   \n",
       "3           0.000000                47.573481           0.501226   \n",
       "4           0.000000                75.930376           1.119340   \n",
       "5           0.000000                99.968380           0.136143   \n",
       "6           0.000000               109.012480           1.454951   \n",
       "7           0.000000               148.587658           4.075235   \n",
       "8           0.000000               167.310248           0.277209   \n",
       "9           0.000000               184.398872           1.158740   \n",
       "10          0.000000               204.084612           3.704985   \n",
       "11          0.000000               212.590873           0.816305   \n",
       "12          0.000000               224.180587           0.773125   \n",
       "13          0.000000               222.609851           3.579437   \n",
       "14          0.000000               229.244596           0.031678   \n",
       "15          0.000000               244.987352           0.044027   \n",
       "16          0.000000               242.976350           2.598122   \n",
       "17          0.000000               263.376140           1.494685   \n",
       "18          0.000000               277.708672           1.332113   \n",
       "19          0.000000               323.826208           1.936016   \n",
       "20          0.000000               339.634195           3.464209   \n",
       "21          0.000000               352.559145           0.305984   \n",
       "22          0.273403               354.098668           1.339149   \n",
       "23          0.000000               359.703969           0.406744   \n",
       "24          0.000000               373.537545           1.267888   \n",
       "25          0.000000               366.454048          11.498047   \n",
       "26          0.000000               387.870471           0.901568   \n",
       "27          0.000000               392.222898           0.217332   \n",
       "28          0.000000               394.488754           0.175381   \n",
       "29          0.000000               467.498324           3.343297   \n",
       "30          0.000000               474.637193           3.364857   \n",
       "31          0.000000               486.207606           0.725614   \n",
       "32          0.000000               523.433872           0.212645   \n",
       "\n",
       "    time_in_system  \n",
       "0        15.408614  \n",
       "1        17.223341  \n",
       "2        15.691459  \n",
       "3        15.777720  \n",
       "4        16.606433  \n",
       "5        15.529650  \n",
       "6        16.857684  \n",
       "7        19.434919  \n",
       "8        15.936359  \n",
       "9        16.409861  \n",
       "10       18.984474  \n",
       "11       16.586612  \n",
       "12       16.297196  \n",
       "13       18.834458  \n",
       "14       15.301500  \n",
       "15       16.152602  \n",
       "16       18.365529  \n",
       "17       17.570218  \n",
       "18       16.718241  \n",
       "19       17.494791  \n",
       "20       18.883605  \n",
       "21       15.625845  \n",
       "22       18.182484  \n",
       "23       16.279017  \n",
       "24       16.521981  \n",
       "25       26.887001  \n",
       "26       17.837775  \n",
       "27       15.629545  \n",
       "28       15.580728  \n",
       "29       18.687689  \n",
       "30       18.890158  \n",
       "31       16.414331  \n",
       "32       16.287966  "
      ],
      "text/html": "<div>\n<style scoped>\n    .dataframe tbody tr th:only-of-type {\n        vertical-align: middle;\n    }\n\n    .dataframe tbody tr th {\n        vertical-align: top;\n    }\n\n    .dataframe thead th {\n        text-align: right;\n    }\n</style>\n<table border=\"1\" class=\"dataframe\">\n  <thead>\n    <tr style=\"text-align: right;\">\n      <th></th>\n      <th>customer_id</th>\n      <th>arrival_ts</th>\n      <th>got_greeter_ts</th>\n      <th>release_greeter_ts</th>\n      <th>wait_time</th>\n      <th>release_wait_time</th>\n      <th>got_banker_ts</th>\n      <th>release_banker_ts</th>\n      <th>exit_system_ts</th>\n      <th>wait_for_greeter</th>\n      <th>waiting_for_banker_time</th>\n      <th>open_account_time</th>\n      <th>time_in_system</th>\n    </tr>\n  </thead>\n  <tbody>\n    <tr>\n      <th>0</th>\n      <td>2</td>\n      <td>12.976768</td>\n      <td>12.976768</td>\n      <td>13.254339</td>\n      <td>0.0</td>\n      <td>28.304767</td>\n      <td>28.304767</td>\n      <td>28.385382</td>\n      <td>28.385382</td>\n      <td>0.000000</td>\n      <td>28.304767</td>\n      <td>0.080615</td>\n      <td>15.408614</td>\n    </tr>\n    <tr>\n      <th>1</th>\n      <td>1</td>\n      <td>11.662377</td>\n      <td>11.662377</td>\n      <td>11.837842</td>\n      <td>0.0</td>\n      <td>27.049301</td>\n      <td>27.049301</td>\n      <td>28.885719</td>\n      <td>28.885719</td>\n      <td>0.000000</td>\n      <td>27.049301</td>\n      <td>1.836418</td>\n      <td>17.223341</td>\n    </tr>\n    <tr>\n      <th>2</th>\n      <td>3</td>\n      <td>18.462901</td>\n      <td>18.462901</td>\n      <td>18.807007</td>\n      <td>0.0</td>\n      <td>34.014628</td>\n      <td>34.014628</td>\n      <td>34.154360</td>\n      <td>34.154360</td>\n      <td>0.000000</td>\n      <td>34.014628</td>\n      <td>0.139732</td>\n      <td>15.691459</td>\n    </tr>\n    <tr>\n      <th>3</th>\n      <td>4</td>\n      <td>32.296987</td>\n      <td>32.296987</td>\n      <td>32.532792</td>\n      <td>0.0</td>\n      <td>47.573481</td>\n      <td>47.573481</td>\n      <td>48.074707</td>\n      <td>48.074707</td>\n      <td>0.000000</td>\n      <td>47.573481</td>\n      <td>0.501226</td>\n      <td>15.777720</td>\n    </tr>\n    <tr>\n      <th>4</th>\n      <td>5</td>\n      <td>60.443282</td>\n      <td>60.443282</td>\n      <td>60.647596</td>\n      <td>0.0</td>\n      <td>75.930376</td>\n      <td>75.930376</td>\n      <td>77.049716</td>\n      <td>77.049716</td>\n      <td>0.000000</td>\n      <td>75.930376</td>\n      <td>1.119340</td>\n      <td>16.606433</td>\n    </tr>\n    <tr>\n      <th>5</th>\n      <td>6</td>\n      <td>84.574873</td>\n      <td>84.574873</td>\n      <td>84.885865</td>\n      <td>0.0</td>\n      <td>99.968380</td>\n      <td>99.968380</td>\n      <td>100.104523</td>\n      <td>100.104523</td>\n      <td>0.000000</td>\n      <td>99.968380</td>\n      <td>0.136143</td>\n      <td>15.529650</td>\n    </tr>\n    <tr>\n      <th>6</th>\n      <td>7</td>\n      <td>93.609748</td>\n      <td>93.609748</td>\n      <td>93.882707</td>\n      <td>0.0</td>\n      <td>109.012480</td>\n      <td>109.012480</td>\n      <td>110.467431</td>\n      <td>110.467431</td>\n      <td>0.000000</td>\n      <td>109.012480</td>\n      <td>1.454951</td>\n      <td>16.857684</td>\n    </tr>\n    <tr>\n      <th>7</th>\n      <td>8</td>\n      <td>133.227974</td>\n      <td>133.227974</td>\n      <td>133.517088</td>\n      <td>0.0</td>\n      <td>148.587658</td>\n      <td>148.587658</td>\n      <td>152.662892</td>\n      <td>152.662892</td>\n      <td>0.000000</td>\n      <td>148.587658</td>\n      <td>4.075235</td>\n      <td>19.434919</td>\n    </tr>\n    <tr>\n      <th>8</th>\n      <td>9</td>\n      <td>151.651099</td>\n      <td>151.651099</td>\n      <td>151.830739</td>\n      <td>0.0</td>\n      <td>167.310248</td>\n      <td>167.310248</td>\n      <td>167.587457</td>\n      <td>167.587457</td>\n      <td>0.000000</td>\n      <td>167.310248</td>\n      <td>0.277209</td>\n      <td>15.936359</td>\n    </tr>\n    <tr>\n      <th>9</th>\n      <td>10</td>\n      <td>169.147750</td>\n      <td>169.147750</td>\n      <td>169.328541</td>\n      <td>0.0</td>\n      <td>184.398872</td>\n      <td>184.398872</td>\n      <td>185.557612</td>\n      <td>185.557612</td>\n      <td>0.000000</td>\n      <td>184.398872</td>\n      <td>1.158740</td>\n      <td>16.409861</td>\n    </tr>\n    <tr>\n      <th>10</th>\n      <td>11</td>\n      <td>188.805124</td>\n      <td>188.805124</td>\n      <td>189.081430</td>\n      <td>0.0</td>\n      <td>204.084612</td>\n      <td>204.084612</td>\n      <td>207.789597</td>\n      <td>207.789597</td>\n      <td>0.000000</td>\n      <td>204.084612</td>\n      <td>3.704985</td>\n      <td>18.984474</td>\n    </tr>\n    <tr>\n      <th>11</th>\n      <td>12</td>\n      <td>196.820566</td>\n      <td>196.820566</td>\n      <td>197.115478</td>\n      <td>0.0</td>\n      <td>212.590873</td>\n      <td>212.590873</td>\n      <td>213.407177</td>\n      <td>213.407177</td>\n      <td>0.000000</td>\n      <td>212.590873</td>\n      <td>0.816305</td>\n      <td>16.586612</td>\n    </tr>\n    <tr>\n      <th>12</th>\n      <td>14</td>\n      <td>208.656516</td>\n      <td>208.656516</td>\n      <td>209.016902</td>\n      <td>0.0</td>\n      <td>224.180587</td>\n      <td>224.180587</td>\n      <td>224.953712</td>\n      <td>224.953712</td>\n      <td>0.000000</td>\n      <td>224.180587</td>\n      <td>0.773125</td>\n      <td>16.297196</td>\n    </tr>\n    <tr>\n      <th>13</th>\n      <td>13</td>\n      <td>207.354830</td>\n      <td>207.354830</td>\n      <td>207.552853</td>\n      <td>0.0</td>\n      <td>222.609851</td>\n      <td>222.609851</td>\n      <td>226.189288</td>\n      <td>226.189288</td>\n      <td>0.000000</td>\n      <td>222.609851</td>\n      <td>3.579437</td>\n      <td>18.834458</td>\n    </tr>\n    <tr>\n      <th>14</th>\n      <td>15</td>\n      <td>213.974774</td>\n      <td>213.974774</td>\n      <td>214.132232</td>\n      <td>0.0</td>\n      <td>229.244596</td>\n      <td>229.244596</td>\n      <td>229.276274</td>\n      <td>229.276274</td>\n      <td>0.000000</td>\n      <td>229.244596</td>\n      <td>0.031678</td>\n      <td>15.301500</td>\n    </tr>\n    <tr>\n      <th>15</th>\n      <td>17</td>\n      <td>228.878778</td>\n      <td>228.878778</td>\n      <td>229.194997</td>\n      <td>0.0</td>\n      <td>244.987352</td>\n      <td>244.987352</td>\n      <td>245.031379</td>\n      <td>245.031379</td>\n      <td>0.000000</td>\n      <td>244.987352</td>\n      <td>0.044027</td>\n      <td>16.152602</td>\n    </tr>\n    <tr>\n      <th>16</th>\n      <td>16</td>\n      <td>227.208943</td>\n      <td>227.208943</td>\n      <td>227.467991</td>\n      <td>0.0</td>\n      <td>242.976350</td>\n      <td>242.976350</td>\n      <td>245.574472</td>\n      <td>245.574472</td>\n      <td>0.000000</td>\n      <td>242.976350</td>\n      <td>2.598122</td>\n      <td>18.365529</td>\n    </tr>\n    <tr>\n      <th>17</th>\n      <td>18</td>\n      <td>247.300607</td>\n      <td>247.300607</td>\n      <td>247.500484</td>\n      <td>0.0</td>\n      <td>263.376140</td>\n      <td>263.376140</td>\n      <td>264.870825</td>\n      <td>264.870825</td>\n      <td>0.000000</td>\n      <td>263.376140</td>\n      <td>1.494685</td>\n      <td>17.570218</td>\n    </tr>\n    <tr>\n      <th>18</th>\n      <td>19</td>\n      <td>262.322543</td>\n      <td>262.322543</td>\n      <td>262.597729</td>\n      <td>0.0</td>\n      <td>277.708672</td>\n      <td>277.708672</td>\n      <td>279.040785</td>\n      <td>279.040785</td>\n      <td>0.000000</td>\n      <td>277.708672</td>\n      <td>1.332113</td>\n      <td>16.718241</td>\n    </tr>\n    <tr>\n      <th>19</th>\n      <td>20</td>\n      <td>308.267433</td>\n      <td>308.267433</td>\n      <td>308.541518</td>\n      <td>0.0</td>\n      <td>323.826208</td>\n      <td>323.826208</td>\n      <td>325.762224</td>\n      <td>325.762224</td>\n      <td>0.000000</td>\n      <td>323.826208</td>\n      <td>1.936016</td>\n      <td>17.494791</td>\n    </tr>\n    <tr>\n      <th>20</th>\n      <td>21</td>\n      <td>324.214800</td>\n      <td>324.214800</td>\n      <td>324.507151</td>\n      <td>0.0</td>\n      <td>339.634195</td>\n      <td>339.634195</td>\n      <td>343.098404</td>\n      <td>343.098404</td>\n      <td>0.000000</td>\n      <td>339.634195</td>\n      <td>3.464209</td>\n      <td>18.883605</td>\n    </tr>\n    <tr>\n      <th>21</th>\n      <td>22</td>\n      <td>337.239284</td>\n      <td>337.239284</td>\n      <td>337.528736</td>\n      <td>0.0</td>\n      <td>352.559145</td>\n      <td>352.559145</td>\n      <td>352.865128</td>\n      <td>352.865128</td>\n      <td>0.000000</td>\n      <td>352.559145</td>\n      <td>0.305984</td>\n      <td>15.625845</td>\n    </tr>\n    <tr>\n      <th>22</th>\n      <td>23</td>\n      <td>337.255333</td>\n      <td>337.528736</td>\n      <td>337.750126</td>\n      <td>0.0</td>\n      <td>354.098668</td>\n      <td>354.098668</td>\n      <td>355.437817</td>\n      <td>355.437817</td>\n      <td>0.273403</td>\n      <td>354.098668</td>\n      <td>1.339149</td>\n      <td>18.182484</td>\n    </tr>\n    <tr>\n      <th>23</th>\n      <td>24</td>\n      <td>343.831696</td>\n      <td>343.831696</td>\n      <td>343.998456</td>\n      <td>0.0</td>\n      <td>359.703969</td>\n      <td>359.703969</td>\n      <td>360.110713</td>\n      <td>360.110713</td>\n      <td>0.000000</td>\n      <td>359.703969</td>\n      <td>0.406744</td>\n      <td>16.279017</td>\n    </tr>\n    <tr>\n      <th>24</th>\n      <td>26</td>\n      <td>358.283452</td>\n      <td>358.283452</td>\n      <td>358.533066</td>\n      <td>0.0</td>\n      <td>373.537545</td>\n      <td>373.537545</td>\n      <td>374.805433</td>\n      <td>374.805433</td>\n      <td>0.000000</td>\n      <td>373.537545</td>\n      <td>1.267888</td>\n      <td>16.521981</td>\n    </tr>\n    <tr>\n      <th>25</th>\n      <td>25</td>\n      <td>351.065094</td>\n      <td>351.065094</td>\n      <td>351.381609</td>\n      <td>0.0</td>\n      <td>366.454048</td>\n      <td>366.454048</td>\n      <td>377.952095</td>\n      <td>377.952095</td>\n      <td>0.000000</td>\n      <td>366.454048</td>\n      <td>11.498047</td>\n      <td>26.887001</td>\n    </tr>\n    <tr>\n      <th>26</th>\n      <td>27</td>\n      <td>370.934263</td>\n      <td>370.934263</td>\n      <td>371.171825</td>\n      <td>0.0</td>\n      <td>387.870471</td>\n      <td>387.870471</td>\n      <td>388.772039</td>\n      <td>388.772039</td>\n      <td>0.000000</td>\n      <td>387.870471</td>\n      <td>0.901568</td>\n      <td>17.837775</td>\n    </tr>\n    <tr>\n      <th>27</th>\n      <td>28</td>\n      <td>376.810684</td>\n      <td>376.810684</td>\n      <td>377.045846</td>\n      <td>0.0</td>\n      <td>392.222898</td>\n      <td>392.222898</td>\n      <td>392.440229</td>\n      <td>392.440229</td>\n      <td>0.000000</td>\n      <td>392.222898</td>\n      <td>0.217332</td>\n      <td>15.629545</td>\n    </tr>\n    <tr>\n      <th>28</th>\n      <td>29</td>\n      <td>379.083407</td>\n      <td>379.083407</td>\n      <td>379.240962</td>\n      <td>0.0</td>\n      <td>394.488754</td>\n      <td>394.488754</td>\n      <td>394.664135</td>\n      <td>394.664135</td>\n      <td>0.000000</td>\n      <td>394.488754</td>\n      <td>0.175381</td>\n      <td>15.580728</td>\n    </tr>\n    <tr>\n      <th>29</th>\n      <td>30</td>\n      <td>452.153931</td>\n      <td>452.153931</td>\n      <td>452.385387</td>\n      <td>0.0</td>\n      <td>467.498324</td>\n      <td>467.498324</td>\n      <td>470.841620</td>\n      <td>470.841620</td>\n      <td>0.000000</td>\n      <td>467.498324</td>\n      <td>3.343297</td>\n      <td>18.687689</td>\n    </tr>\n    <tr>\n      <th>30</th>\n      <td>31</td>\n      <td>459.111891</td>\n      <td>459.111891</td>\n      <td>459.359691</td>\n      <td>0.0</td>\n      <td>474.637193</td>\n      <td>474.637193</td>\n      <td>478.002049</td>\n      <td>478.002049</td>\n      <td>0.000000</td>\n      <td>474.637193</td>\n      <td>3.364857</td>\n      <td>18.890158</td>\n    </tr>\n    <tr>\n      <th>31</th>\n      <td>32</td>\n      <td>470.518888</td>\n      <td>470.518888</td>\n      <td>470.792434</td>\n      <td>0.0</td>\n      <td>486.207606</td>\n      <td>486.207606</td>\n      <td>486.933220</td>\n      <td>486.933220</td>\n      <td>0.000000</td>\n      <td>486.207606</td>\n      <td>0.725614</td>\n      <td>16.414331</td>\n    </tr>\n    <tr>\n      <th>32</th>\n      <td>33</td>\n      <td>507.358550</td>\n      <td>507.358550</td>\n      <td>507.598074</td>\n      <td>0.0</td>\n      <td>523.433872</td>\n      <td>523.433872</td>\n      <td>523.646516</td>\n      <td>523.646516</td>\n      <td>0.000000</td>\n      <td>523.433872</td>\n      <td>0.212645</td>\n      <td>16.287966</td>\n    </tr>\n  </tbody>\n</table>\n</div>"
     },
     "metadata": {},
     "execution_count": 118
    }
   ],
   "source": [
    "bank_customer_log_df = compute_durations(bank_customer_log_df)\n",
    "bank_customer_log_df"
   ]
  },
  {
   "cell_type": "code",
   "execution_count": 119,
   "metadata": {},
   "outputs": [
    {
     "output_type": "display_data",
     "data": {
      "text/plain": "<Figure size 432x288 with 1 Axes>",
      "image/svg+xml": "<?xml version=\"1.0\" encoding=\"utf-8\" standalone=\"no\"?>\r\n<!DOCTYPE svg PUBLIC \"-//W3C//DTD SVG 1.1//EN\"\r\n  \"http://www.w3.org/Graphics/SVG/1.1/DTD/svg11.dtd\">\r\n<!-- Created with matplotlib (https://matplotlib.org/) -->\r\n<svg height=\"248.518125pt\" version=\"1.1\" viewBox=\"0 0 368.925 248.518125\" width=\"368.925pt\" xmlns=\"http://www.w3.org/2000/svg\" xmlns:xlink=\"http://www.w3.org/1999/xlink\">\r\n <metadata>\r\n  <rdf:RDF xmlns:cc=\"http://creativecommons.org/ns#\" xmlns:dc=\"http://purl.org/dc/elements/1.1/\" xmlns:rdf=\"http://www.w3.org/1999/02/22-rdf-syntax-ns#\">\r\n   <cc:Work>\r\n    <dc:type rdf:resource=\"http://purl.org/dc/dcmitype/StillImage\"/>\r\n    <dc:date>2021-06-23T15:58:36.825152</dc:date>\r\n    <dc:format>image/svg+xml</dc:format>\r\n    <dc:creator>\r\n     <cc:Agent>\r\n      <dc:title>Matplotlib v3.3.4, https://matplotlib.org/</dc:title>\r\n     </cc:Agent>\r\n    </dc:creator>\r\n   </cc:Work>\r\n  </rdf:RDF>\r\n </metadata>\r\n <defs>\r\n  <style type=\"text/css\">*{stroke-linecap:butt;stroke-linejoin:round;}</style>\r\n </defs>\r\n <g id=\"figure_1\">\r\n  <g id=\"patch_1\">\r\n   <path d=\"M -0 248.518125 \r\nL 368.925 248.518125 \r\nL 368.925 0 \r\nL -0 0 \r\nz\r\n\" style=\"fill:none;\"/>\r\n  </g>\r\n  <g id=\"axes_1\">\r\n   <g id=\"patch_2\">\r\n    <path d=\"M 26.925 224.64 \r\nL 361.725 224.64 \r\nL 361.725 7.2 \r\nL 26.925 7.2 \r\nz\r\n\" style=\"fill:#ffffff;\"/>\r\n   </g>\r\n   <g id=\"patch_3\">\r\n    <path clip-path=\"url(#p3943ea743c)\" d=\"M 42.143182 224.64 \r\nL 72.579545 224.64 \r\nL 72.579545 17.554286 \r\nL 42.143182 17.554286 \r\nz\r\n\" style=\"fill:#1f77b4;\"/>\r\n   </g>\r\n   <g id=\"patch_4\">\r\n    <path clip-path=\"url(#p3943ea743c)\" d=\"M 72.579545 224.64 \r\nL 103.015909 224.64 \r\nL 103.015909 114.194286 \r\nL 72.579545 114.194286 \r\nz\r\n\" style=\"fill:#1f77b4;\"/>\r\n   </g>\r\n   <g id=\"patch_5\">\r\n    <path clip-path=\"url(#p3943ea743c)\" d=\"M 103.015909 224.64 \r\nL 133.452273 224.64 \r\nL 133.452273 169.417143 \r\nL 103.015909 169.417143 \r\nz\r\n\" style=\"fill:#1f77b4;\"/>\r\n   </g>\r\n   <g id=\"patch_6\">\r\n    <path clip-path=\"url(#p3943ea743c)\" d=\"M 133.452273 224.64 \r\nL 163.888636 224.64 \r\nL 163.888636 155.611429 \r\nL 133.452273 155.611429 \r\nz\r\n\" style=\"fill:#1f77b4;\"/>\r\n   </g>\r\n   <g id=\"patch_7\">\r\n    <path clip-path=\"url(#p3943ea743c)\" d=\"M 163.888636 224.64 \r\nL 194.325 224.64 \r\nL 194.325 224.64 \r\nL 163.888636 224.64 \r\nz\r\n\" style=\"fill:#1f77b4;\"/>\r\n   </g>\r\n   <g id=\"patch_8\">\r\n    <path clip-path=\"url(#p3943ea743c)\" d=\"M 194.325 224.64 \r\nL 224.761364 224.64 \r\nL 224.761364 224.64 \r\nL 194.325 224.64 \r\nz\r\n\" style=\"fill:#1f77b4;\"/>\r\n   </g>\r\n   <g id=\"patch_9\">\r\n    <path clip-path=\"url(#p3943ea743c)\" d=\"M 224.761364 224.64 \r\nL 255.197727 224.64 \r\nL 255.197727 224.64 \r\nL 224.761364 224.64 \r\nz\r\n\" style=\"fill:#1f77b4;\"/>\r\n   </g>\r\n   <g id=\"patch_10\">\r\n    <path clip-path=\"url(#p3943ea743c)\" d=\"M 255.197727 224.64 \r\nL 285.634091 224.64 \r\nL 285.634091 224.64 \r\nL 255.197727 224.64 \r\nz\r\n\" style=\"fill:#1f77b4;\"/>\r\n   </g>\r\n   <g id=\"patch_11\">\r\n    <path clip-path=\"url(#p3943ea743c)\" d=\"M 285.634091 224.64 \r\nL 316.070455 224.64 \r\nL 316.070455 224.64 \r\nL 285.634091 224.64 \r\nz\r\n\" style=\"fill:#1f77b4;\"/>\r\n   </g>\r\n   <g id=\"patch_12\">\r\n    <path clip-path=\"url(#p3943ea743c)\" d=\"M 316.070455 224.64 \r\nL 346.506818 224.64 \r\nL 346.506818 210.834286 \r\nL 316.070455 210.834286 \r\nz\r\n\" style=\"fill:#1f77b4;\"/>\r\n   </g>\r\n   <g id=\"matplotlib.axis_1\">\r\n    <g id=\"xtick_1\">\r\n     <g id=\"line2d_1\">\r\n      <defs>\r\n       <path d=\"M 0 0 \r\nL 0 3.5 \r\n\" id=\"mc16b08912a\" style=\"stroke:#000000;stroke-width:0.8;\"/>\r\n      </defs>\r\n      <g>\r\n       <use style=\"stroke:#000000;stroke-width:0.8;\" x=\"60.49353\" xlink:href=\"#mc16b08912a\" y=\"224.64\"/>\r\n      </g>\r\n     </g>\r\n     <g id=\"text_1\">\r\n      <!-- 16 -->\r\n      <g transform=\"translate(54.13103 239.238437)scale(0.1 -0.1)\">\r\n       <defs>\r\n        <path d=\"M 12.40625 8.296875 \r\nL 28.515625 8.296875 \r\nL 28.515625 63.921875 \r\nL 10.984375 60.40625 \r\nL 10.984375 69.390625 \r\nL 28.421875 72.90625 \r\nL 38.28125 72.90625 \r\nL 38.28125 8.296875 \r\nL 54.390625 8.296875 \r\nL 54.390625 0 \r\nL 12.40625 0 \r\nz\r\n\" id=\"DejaVuSans-49\"/>\r\n        <path d=\"M 33.015625 40.375 \r\nQ 26.375 40.375 22.484375 35.828125 \r\nQ 18.609375 31.296875 18.609375 23.390625 \r\nQ 18.609375 15.53125 22.484375 10.953125 \r\nQ 26.375 6.390625 33.015625 6.390625 \r\nQ 39.65625 6.390625 43.53125 10.953125 \r\nQ 47.40625 15.53125 47.40625 23.390625 \r\nQ 47.40625 31.296875 43.53125 35.828125 \r\nQ 39.65625 40.375 33.015625 40.375 \r\nz\r\nM 52.59375 71.296875 \r\nL 52.59375 62.3125 \r\nQ 48.875 64.0625 45.09375 64.984375 \r\nQ 41.3125 65.921875 37.59375 65.921875 \r\nQ 27.828125 65.921875 22.671875 59.328125 \r\nQ 17.53125 52.734375 16.796875 39.40625 \r\nQ 19.671875 43.65625 24.015625 45.921875 \r\nQ 28.375 48.1875 33.59375 48.1875 \r\nQ 44.578125 48.1875 50.953125 41.515625 \r\nQ 57.328125 34.859375 57.328125 23.390625 \r\nQ 57.328125 12.15625 50.6875 5.359375 \r\nQ 44.046875 -1.421875 33.015625 -1.421875 \r\nQ 20.359375 -1.421875 13.671875 8.265625 \r\nQ 6.984375 17.96875 6.984375 36.375 \r\nQ 6.984375 53.65625 15.1875 63.9375 \r\nQ 23.390625 74.21875 37.203125 74.21875 \r\nQ 40.921875 74.21875 44.703125 73.484375 \r\nQ 48.484375 72.75 52.59375 71.296875 \r\nz\r\n\" id=\"DejaVuSans-54\"/>\r\n       </defs>\r\n       <use xlink:href=\"#DejaVuSans-49\"/>\r\n       <use x=\"63.623047\" xlink:href=\"#DejaVuSans-54\"/>\r\n      </g>\r\n     </g>\r\n    </g>\r\n    <g id=\"xtick_2\">\r\n     <g id=\"line2d_2\">\r\n      <g>\r\n       <use style=\"stroke:#000000;stroke-width:0.8;\" x=\"113.035691\" xlink:href=\"#mc16b08912a\" y=\"224.64\"/>\r\n      </g>\r\n     </g>\r\n     <g id=\"text_2\">\r\n      <!-- 18 -->\r\n      <g transform=\"translate(106.673191 239.238437)scale(0.1 -0.1)\">\r\n       <defs>\r\n        <path d=\"M 31.78125 34.625 \r\nQ 24.75 34.625 20.71875 30.859375 \r\nQ 16.703125 27.09375 16.703125 20.515625 \r\nQ 16.703125 13.921875 20.71875 10.15625 \r\nQ 24.75 6.390625 31.78125 6.390625 \r\nQ 38.8125 6.390625 42.859375 10.171875 \r\nQ 46.921875 13.96875 46.921875 20.515625 \r\nQ 46.921875 27.09375 42.890625 30.859375 \r\nQ 38.875 34.625 31.78125 34.625 \r\nz\r\nM 21.921875 38.8125 \r\nQ 15.578125 40.375 12.03125 44.71875 \r\nQ 8.5 49.078125 8.5 55.328125 \r\nQ 8.5 64.0625 14.71875 69.140625 \r\nQ 20.953125 74.21875 31.78125 74.21875 \r\nQ 42.671875 74.21875 48.875 69.140625 \r\nQ 55.078125 64.0625 55.078125 55.328125 \r\nQ 55.078125 49.078125 51.53125 44.71875 \r\nQ 48 40.375 41.703125 38.8125 \r\nQ 48.828125 37.15625 52.796875 32.3125 \r\nQ 56.78125 27.484375 56.78125 20.515625 \r\nQ 56.78125 9.90625 50.3125 4.234375 \r\nQ 43.84375 -1.421875 31.78125 -1.421875 \r\nQ 19.734375 -1.421875 13.25 4.234375 \r\nQ 6.78125 9.90625 6.78125 20.515625 \r\nQ 6.78125 27.484375 10.78125 32.3125 \r\nQ 14.796875 37.15625 21.921875 38.8125 \r\nz\r\nM 18.3125 54.390625 \r\nQ 18.3125 48.734375 21.84375 45.5625 \r\nQ 25.390625 42.390625 31.78125 42.390625 \r\nQ 38.140625 42.390625 41.71875 45.5625 \r\nQ 45.3125 48.734375 45.3125 54.390625 \r\nQ 45.3125 60.0625 41.71875 63.234375 \r\nQ 38.140625 66.40625 31.78125 66.40625 \r\nQ 25.390625 66.40625 21.84375 63.234375 \r\nQ 18.3125 60.0625 18.3125 54.390625 \r\nz\r\n\" id=\"DejaVuSans-56\"/>\r\n       </defs>\r\n       <use xlink:href=\"#DejaVuSans-49\"/>\r\n       <use x=\"63.623047\" xlink:href=\"#DejaVuSans-56\"/>\r\n      </g>\r\n     </g>\r\n    </g>\r\n    <g id=\"xtick_3\">\r\n     <g id=\"line2d_3\">\r\n      <g>\r\n       <use style=\"stroke:#000000;stroke-width:0.8;\" x=\"165.577852\" xlink:href=\"#mc16b08912a\" y=\"224.64\"/>\r\n      </g>\r\n     </g>\r\n     <g id=\"text_3\">\r\n      <!-- 20 -->\r\n      <g transform=\"translate(159.215352 239.238437)scale(0.1 -0.1)\">\r\n       <defs>\r\n        <path d=\"M 19.1875 8.296875 \r\nL 53.609375 8.296875 \r\nL 53.609375 0 \r\nL 7.328125 0 \r\nL 7.328125 8.296875 \r\nQ 12.9375 14.109375 22.625 23.890625 \r\nQ 32.328125 33.6875 34.8125 36.53125 \r\nQ 39.546875 41.84375 41.421875 45.53125 \r\nQ 43.3125 49.21875 43.3125 52.78125 \r\nQ 43.3125 58.59375 39.234375 62.25 \r\nQ 35.15625 65.921875 28.609375 65.921875 \r\nQ 23.96875 65.921875 18.8125 64.3125 \r\nQ 13.671875 62.703125 7.8125 59.421875 \r\nL 7.8125 69.390625 \r\nQ 13.765625 71.78125 18.9375 73 \r\nQ 24.125 74.21875 28.421875 74.21875 \r\nQ 39.75 74.21875 46.484375 68.546875 \r\nQ 53.21875 62.890625 53.21875 53.421875 \r\nQ 53.21875 48.921875 51.53125 44.890625 \r\nQ 49.859375 40.875 45.40625 35.40625 \r\nQ 44.1875 33.984375 37.640625 27.21875 \r\nQ 31.109375 20.453125 19.1875 8.296875 \r\nz\r\n\" id=\"DejaVuSans-50\"/>\r\n        <path d=\"M 31.78125 66.40625 \r\nQ 24.171875 66.40625 20.328125 58.90625 \r\nQ 16.5 51.421875 16.5 36.375 \r\nQ 16.5 21.390625 20.328125 13.890625 \r\nQ 24.171875 6.390625 31.78125 6.390625 \r\nQ 39.453125 6.390625 43.28125 13.890625 \r\nQ 47.125 21.390625 47.125 36.375 \r\nQ 47.125 51.421875 43.28125 58.90625 \r\nQ 39.453125 66.40625 31.78125 66.40625 \r\nz\r\nM 31.78125 74.21875 \r\nQ 44.046875 74.21875 50.515625 64.515625 \r\nQ 56.984375 54.828125 56.984375 36.375 \r\nQ 56.984375 17.96875 50.515625 8.265625 \r\nQ 44.046875 -1.421875 31.78125 -1.421875 \r\nQ 19.53125 -1.421875 13.0625 8.265625 \r\nQ 6.59375 17.96875 6.59375 36.375 \r\nQ 6.59375 54.828125 13.0625 64.515625 \r\nQ 19.53125 74.21875 31.78125 74.21875 \r\nz\r\n\" id=\"DejaVuSans-48\"/>\r\n       </defs>\r\n       <use xlink:href=\"#DejaVuSans-50\"/>\r\n       <use x=\"63.623047\" xlink:href=\"#DejaVuSans-48\"/>\r\n      </g>\r\n     </g>\r\n    </g>\r\n    <g id=\"xtick_4\">\r\n     <g id=\"line2d_4\">\r\n      <g>\r\n       <use style=\"stroke:#000000;stroke-width:0.8;\" x=\"218.120013\" xlink:href=\"#mc16b08912a\" y=\"224.64\"/>\r\n      </g>\r\n     </g>\r\n     <g id=\"text_4\">\r\n      <!-- 22 -->\r\n      <g transform=\"translate(211.757513 239.238437)scale(0.1 -0.1)\">\r\n       <use xlink:href=\"#DejaVuSans-50\"/>\r\n       <use x=\"63.623047\" xlink:href=\"#DejaVuSans-50\"/>\r\n      </g>\r\n     </g>\r\n    </g>\r\n    <g id=\"xtick_5\">\r\n     <g id=\"line2d_5\">\r\n      <g>\r\n       <use style=\"stroke:#000000;stroke-width:0.8;\" x=\"270.662174\" xlink:href=\"#mc16b08912a\" y=\"224.64\"/>\r\n      </g>\r\n     </g>\r\n     <g id=\"text_5\">\r\n      <!-- 24 -->\r\n      <g transform=\"translate(264.299674 239.238437)scale(0.1 -0.1)\">\r\n       <defs>\r\n        <path d=\"M 37.796875 64.3125 \r\nL 12.890625 25.390625 \r\nL 37.796875 25.390625 \r\nz\r\nM 35.203125 72.90625 \r\nL 47.609375 72.90625 \r\nL 47.609375 25.390625 \r\nL 58.015625 25.390625 \r\nL 58.015625 17.1875 \r\nL 47.609375 17.1875 \r\nL 47.609375 0 \r\nL 37.796875 0 \r\nL 37.796875 17.1875 \r\nL 4.890625 17.1875 \r\nL 4.890625 26.703125 \r\nz\r\n\" id=\"DejaVuSans-52\"/>\r\n       </defs>\r\n       <use xlink:href=\"#DejaVuSans-50\"/>\r\n       <use x=\"63.623047\" xlink:href=\"#DejaVuSans-52\"/>\r\n      </g>\r\n     </g>\r\n    </g>\r\n    <g id=\"xtick_6\">\r\n     <g id=\"line2d_6\">\r\n      <g>\r\n       <use style=\"stroke:#000000;stroke-width:0.8;\" x=\"323.204335\" xlink:href=\"#mc16b08912a\" y=\"224.64\"/>\r\n      </g>\r\n     </g>\r\n     <g id=\"text_6\">\r\n      <!-- 26 -->\r\n      <g transform=\"translate(316.841835 239.238437)scale(0.1 -0.1)\">\r\n       <use xlink:href=\"#DejaVuSans-50\"/>\r\n       <use x=\"63.623047\" xlink:href=\"#DejaVuSans-54\"/>\r\n      </g>\r\n     </g>\r\n    </g>\r\n   </g>\r\n   <g id=\"matplotlib.axis_2\">\r\n    <g id=\"ytick_1\">\r\n     <g id=\"line2d_7\">\r\n      <defs>\r\n       <path d=\"M 0 0 \r\nL -3.5 0 \r\n\" id=\"mba37bb7e51\" style=\"stroke:#000000;stroke-width:0.8;\"/>\r\n      </defs>\r\n      <g>\r\n       <use style=\"stroke:#000000;stroke-width:0.8;\" x=\"26.925\" xlink:href=\"#mba37bb7e51\" y=\"224.64\"/>\r\n      </g>\r\n     </g>\r\n     <g id=\"text_7\">\r\n      <!-- 0 -->\r\n      <g transform=\"translate(13.5625 228.439219)scale(0.1 -0.1)\">\r\n       <use xlink:href=\"#DejaVuSans-48\"/>\r\n      </g>\r\n     </g>\r\n    </g>\r\n    <g id=\"ytick_2\">\r\n     <g id=\"line2d_8\">\r\n      <g>\r\n       <use style=\"stroke:#000000;stroke-width:0.8;\" x=\"26.925\" xlink:href=\"#mba37bb7e51\" y=\"197.028571\"/>\r\n      </g>\r\n     </g>\r\n     <g id=\"text_8\">\r\n      <!-- 2 -->\r\n      <g transform=\"translate(13.5625 200.82779)scale(0.1 -0.1)\">\r\n       <use xlink:href=\"#DejaVuSans-50\"/>\r\n      </g>\r\n     </g>\r\n    </g>\r\n    <g id=\"ytick_3\">\r\n     <g id=\"line2d_9\">\r\n      <g>\r\n       <use style=\"stroke:#000000;stroke-width:0.8;\" x=\"26.925\" xlink:href=\"#mba37bb7e51\" y=\"169.417143\"/>\r\n      </g>\r\n     </g>\r\n     <g id=\"text_9\">\r\n      <!-- 4 -->\r\n      <g transform=\"translate(13.5625 173.216362)scale(0.1 -0.1)\">\r\n       <use xlink:href=\"#DejaVuSans-52\"/>\r\n      </g>\r\n     </g>\r\n    </g>\r\n    <g id=\"ytick_4\">\r\n     <g id=\"line2d_10\">\r\n      <g>\r\n       <use style=\"stroke:#000000;stroke-width:0.8;\" x=\"26.925\" xlink:href=\"#mba37bb7e51\" y=\"141.805714\"/>\r\n      </g>\r\n     </g>\r\n     <g id=\"text_10\">\r\n      <!-- 6 -->\r\n      <g transform=\"translate(13.5625 145.604933)scale(0.1 -0.1)\">\r\n       <use xlink:href=\"#DejaVuSans-54\"/>\r\n      </g>\r\n     </g>\r\n    </g>\r\n    <g id=\"ytick_5\">\r\n     <g id=\"line2d_11\">\r\n      <g>\r\n       <use style=\"stroke:#000000;stroke-width:0.8;\" x=\"26.925\" xlink:href=\"#mba37bb7e51\" y=\"114.194286\"/>\r\n      </g>\r\n     </g>\r\n     <g id=\"text_11\">\r\n      <!-- 8 -->\r\n      <g transform=\"translate(13.5625 117.993504)scale(0.1 -0.1)\">\r\n       <use xlink:href=\"#DejaVuSans-56\"/>\r\n      </g>\r\n     </g>\r\n    </g>\r\n    <g id=\"ytick_6\">\r\n     <g id=\"line2d_12\">\r\n      <g>\r\n       <use style=\"stroke:#000000;stroke-width:0.8;\" x=\"26.925\" xlink:href=\"#mba37bb7e51\" y=\"86.582857\"/>\r\n      </g>\r\n     </g>\r\n     <g id=\"text_12\">\r\n      <!-- 10 -->\r\n      <g transform=\"translate(7.2 90.382076)scale(0.1 -0.1)\">\r\n       <use xlink:href=\"#DejaVuSans-49\"/>\r\n       <use x=\"63.623047\" xlink:href=\"#DejaVuSans-48\"/>\r\n      </g>\r\n     </g>\r\n    </g>\r\n    <g id=\"ytick_7\">\r\n     <g id=\"line2d_13\">\r\n      <g>\r\n       <use style=\"stroke:#000000;stroke-width:0.8;\" x=\"26.925\" xlink:href=\"#mba37bb7e51\" y=\"58.971429\"/>\r\n      </g>\r\n     </g>\r\n     <g id=\"text_13\">\r\n      <!-- 12 -->\r\n      <g transform=\"translate(7.2 62.770647)scale(0.1 -0.1)\">\r\n       <use xlink:href=\"#DejaVuSans-49\"/>\r\n       <use x=\"63.623047\" xlink:href=\"#DejaVuSans-50\"/>\r\n      </g>\r\n     </g>\r\n    </g>\r\n    <g id=\"ytick_8\">\r\n     <g id=\"line2d_14\">\r\n      <g>\r\n       <use style=\"stroke:#000000;stroke-width:0.8;\" x=\"26.925\" xlink:href=\"#mba37bb7e51\" y=\"31.36\"/>\r\n      </g>\r\n     </g>\r\n     <g id=\"text_14\">\r\n      <!-- 14 -->\r\n      <g transform=\"translate(7.2 35.159219)scale(0.1 -0.1)\">\r\n       <use xlink:href=\"#DejaVuSans-49\"/>\r\n       <use x=\"63.623047\" xlink:href=\"#DejaVuSans-52\"/>\r\n      </g>\r\n     </g>\r\n    </g>\r\n   </g>\r\n   <g id=\"patch_13\">\r\n    <path d=\"M 26.925 224.64 \r\nL 26.925 7.2 \r\n\" style=\"fill:none;stroke:#000000;stroke-linecap:square;stroke-linejoin:miter;stroke-width:0.8;\"/>\r\n   </g>\r\n   <g id=\"patch_14\">\r\n    <path d=\"M 361.725 224.64 \r\nL 361.725 7.2 \r\n\" style=\"fill:none;stroke:#000000;stroke-linecap:square;stroke-linejoin:miter;stroke-width:0.8;\"/>\r\n   </g>\r\n   <g id=\"patch_15\">\r\n    <path d=\"M 26.925 224.64 \r\nL 361.725 224.64 \r\n\" style=\"fill:none;stroke:#000000;stroke-linecap:square;stroke-linejoin:miter;stroke-width:0.8;\"/>\r\n   </g>\r\n   <g id=\"patch_16\">\r\n    <path d=\"M 26.925 7.2 \r\nL 361.725 7.2 \r\n\" style=\"fill:none;stroke:#000000;stroke-linecap:square;stroke-linejoin:miter;stroke-width:0.8;\"/>\r\n   </g>\r\n  </g>\r\n </g>\r\n <defs>\r\n  <clipPath id=\"p3943ea743c\">\r\n   <rect height=\"217.44\" width=\"334.8\" x=\"26.925\" y=\"7.2\"/>\r\n  </clipPath>\r\n </defs>\r\n</svg>\r\n",
      "image/png": "[encoded data removed]"
     },
     "metadata": {
      "needs_background": "light"
     }
    }
   ],
   "source": [
    "plt.hist(bank_customer_log_df['time_in_system']);"
   ]
  },
  {
   "cell_type": "code",
   "execution_count": null,
   "metadata": {},
   "outputs": [],
   "source": [
    "bank_customer_log_df.loc[:, ['wait_for_greeter', 'wait_for_reg',\n",
    "                              'wait_for_scheduler', 'wait_for_vaccinator', 'time_in_system']].describe()"
   ]
  },
  {
   "cell_type": "code",
   "execution_count": null,
   "metadata": {},
   "outputs": [],
   "source": []
  },
  {
   "cell_type": "code",
   "execution_count": null,
   "metadata": {},
   "outputs": [],
   "source": []
  },
  {
   "cell_type": "code",
   "execution_count": null,
   "metadata": {},
   "outputs": [],
   "source": []
  },
  {
   "cell_type": "code",
   "execution_count": null,
   "metadata": {},
   "outputs": [],
   "source": []
  },
  {
   "cell_type": "code",
   "execution_count": null,
   "metadata": {},
   "outputs": [],
   "source": []
  },
  {
   "cell_type": "code",
   "execution_count": null,
   "metadata": {},
   "outputs": [],
   "source": []
  },
  {
   "cell_type": "code",
   "execution_count": null,
   "metadata": {},
   "outputs": [],
   "source": []
  },
  {
   "cell_type": "code",
   "execution_count": null,
   "metadata": {},
   "outputs": [],
   "source": []
  },
  {
   "cell_type": "code",
   "execution_count": null,
   "metadata": {},
   "outputs": [],
   "source": []
  },
  {
   "cell_type": "code",
   "execution_count": null,
   "metadata": {},
   "outputs": [],
   "source": []
  },
  {
   "cell_type": "code",
   "execution_count": null,
   "metadata": {},
   "outputs": [],
   "source": []
  }
 ],
 "metadata": {
  "interpreter": {
   "hash": "6e773fbeb6b834f92b861c3e490622dc9246978f97dc901f642f86251481dd7f"
  },
  "kernelspec": {
   "name": "python3",
   "display_name": "Python 3.7.10 64-bit ('aap': conda)"
  },
  "language_info": {
   "codemirror_mode": {
    "name": "ipython",
    "version": 3
   },
   "file_extension": ".py",
   "mimetype": "text/x-python",
   "name": "python",
   "nbconvert_exporter": "python",
   "pygments_lexer": "ipython3",
   "version": "3.7.10"
  },
  "toc-autonumbering": true
 },
 "nbformat": 4,
 "nbformat_minor": 4
}