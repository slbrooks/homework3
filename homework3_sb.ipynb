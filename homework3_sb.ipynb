{
 "cells": [
  {
   "cell_type": "markdown",
   "metadata": {
    "Collapsed": "false"
   },
   "source": [
    "# Howework 3\n",
    "\n",
    "Short description of what this notebook is about"
   ]
  },
  {
   "cell_type": "markdown",
   "metadata": {
    "Collapsed": "false"
   },
   "source": [
    "## Preliminaries"
   ]
  },
  {
   "cell_type": "code",
   "execution_count": 1,
   "metadata": {
    "Collapsed": "false"
   },
   "outputs": [],
   "source": [
    "# To auto-reload modules in jupyter notebook (so that changes in files *.py doesn't require manual reloading):\n",
    "# https://stackoverflow.com/questions/5364050/reloading-submodules-in-ipython\n",
    "%load_ext autoreload\n",
    "%autoreload 2"
   ]
  },
  {
   "cell_type": "markdown",
   "metadata": {
    "Collapsed": "false"
   },
   "source": [
    "Import commonly used libraries and magic command for inline plotting"
   ]
  },
  {
   "cell_type": "code",
   "execution_count": 2,
   "metadata": {
    "Collapsed": "false"
   },
   "outputs": [],
   "source": [
    "import math\n",
    "import numpy as np\n",
    "import pandas as pd\n",
    "from scipy import optimize\n",
    "import matplotlib.pyplot as plt\n",
    "import seaborn as sns\n",
    "from numpy.random import default_rng\n",
    "from IPython.display import Image\n",
    "import simpy\n"
   ]
  },
  {
   "cell_type": "code",
   "execution_count": 3,
   "metadata": {},
   "outputs": [],
   "source": [
    "%matplotlib inline"
   ]
  },
  {
   "cell_type": "markdown",
   "metadata": {
    "Collapsed": "false"
   },
   "source": [
    "## Work\n",
    "\n",
    "This is where work gets done."
   ]
  },
  {
   "cell_type": "code",
   "execution_count": 9,
   "metadata": {
    "Collapsed": "false"
   },
   "outputs": [],
   "source": [
    "# Simple clock\n",
    "\n",
    "def simple_clock(tick_size):\n",
    "    t = 0\n",
    "    while True:\n",
    "        print(f\"The time was {t} and you asked me to tick {tick_size} time units.\")\n",
    "        t += tick_size\n",
    "        yield t"
   ]
  },
  {
   "cell_type": "code",
   "execution_count": 8,
   "metadata": {},
   "outputs": [
    {
     "output_type": "stream",
     "name": "stdout",
     "text": [
      "The time was 0 and you asked me to tick 5 time units.\n5\nThe time was 5 and you asked me to tick 5 time units.\n10\nThe time was 10 and you asked me to tick 5 time units.\n15\n"
     ]
    }
   ],
   "source": [
    "clock = simple_clock(5)\n",
    "print(next(clock))\n",
    "print(next(clock))\n",
    "print(next(clock))"
   ]
  },
  {
   "cell_type": "code",
   "execution_count": null,
   "metadata": {},
   "outputs": [],
   "source": [
    "# Customer arrival generator\n"
   ]
  },
  {
   "cell_type": "code",
   "execution_count": 5,
   "metadata": {},
   "outputs": [
    {
     "output_type": "stream",
     "name": "stdout",
     "text": [
      "0.45855804438027437\n0.15021752731855942\n"
     ]
    }
   ],
   "source": [
    "# Random number generator\n",
    "rg = default_rng(seed=4470)\n",
    "print(rg.random())\n",
    "print(rg.random())"
   ]
  },
  {
   "cell_type": "code",
   "execution_count": 10,
   "metadata": {},
   "outputs": [
    {
     "output_type": "error",
     "ename": "NameError",
     "evalue": "name 'patient_arrivals' is not defined",
     "traceback": [
      "\u001b[1;31m---------------------------------------------------------------------------\u001b[0m",
      "\u001b[1;31mNameError\u001b[0m                                 Traceback (most recent call last)",
      "\u001b[1;32m<ipython-input-10-be9ff91ad72f>\u001b[0m in \u001b[0;36m<module>\u001b[1;34m\u001b[0m\n\u001b[0;32m      6\u001b[0m \u001b[0mruntime\u001b[0m \u001b[1;33m=\u001b[0m \u001b[1;36m25\u001b[0m\u001b[1;33m\u001b[0m\u001b[1;33m\u001b[0m\u001b[0m\n\u001b[0;32m      7\u001b[0m \u001b[0minterarrival_time\u001b[0m \u001b[1;33m=\u001b[0m \u001b[1;36m3.0\u001b[0m\u001b[1;33m\u001b[0m\u001b[1;33m\u001b[0m\u001b[0m\n\u001b[1;32m----> 8\u001b[1;33m \u001b[0menv1\u001b[0m\u001b[1;33m.\u001b[0m\u001b[0mprocess\u001b[0m\u001b[1;33m(\u001b[0m\u001b[0mpatient_arrivals\u001b[0m\u001b[1;33m(\u001b[0m\u001b[0menv1\u001b[0m\u001b[1;33m,\u001b[0m \u001b[0minterarrival_time\u001b[0m\u001b[1;33m)\u001b[0m\u001b[1;33m)\u001b[0m\u001b[1;33m\u001b[0m\u001b[1;33m\u001b[0m\u001b[0m\n\u001b[0m\u001b[0;32m      9\u001b[0m \u001b[1;33m\u001b[0m\u001b[0m\n\u001b[0;32m     10\u001b[0m \u001b[1;31m# Run the simulation\u001b[0m\u001b[1;33m\u001b[0m\u001b[1;33m\u001b[0m\u001b[1;33m\u001b[0m\u001b[0m\n",
      "\u001b[1;31mNameError\u001b[0m: name 'patient_arrivals' is not defined"
     ]
    }
   ],
   "source": [
    "# Initialize a simulation environment\n",
    "env1 = simpy.Environment()\n",
    "\n",
    "# Create a process generator and start it and add it to the env\n",
    "# env.process() starts the patient_arrivals process and adds it to the environment\n",
    "runtime = 25\n",
    "interarrival_time = 3.0\n",
    "env1.process(patient_arrivals(env1, interarrival_time))\n",
    "\n",
    "# Run the simulation\n",
    "env1.run(until=runtime)"
   ]
  },
  {
   "cell_type": "code",
   "execution_count": 6,
   "metadata": {},
   "outputs": [
    {
     "output_type": "error",
     "ename": "NameError",
     "evalue": "name 'interarrival_time' is not defined",
     "traceback": [
      "\u001b[1;31m---------------------------------------------------------------------------\u001b[0m",
      "\u001b[1;31mNameError\u001b[0m                                 Traceback (most recent call last)",
      "\u001b[1;32m<ipython-input-6-29f6c6646f7d>\u001b[0m in \u001b[0;36m<module>\u001b[1;34m\u001b[0m\n\u001b[0;32m      2\u001b[0m \u001b[1;32mfrom\u001b[0m \u001b[0mscipy\u001b[0m\u001b[1;33m.\u001b[0m\u001b[0mstats\u001b[0m \u001b[1;32mimport\u001b[0m \u001b[0mexpon\u001b[0m\u001b[1;33m\u001b[0m\u001b[1;33m\u001b[0m\u001b[0m\n\u001b[0;32m      3\u001b[0m \u001b[1;31m# Set mean of this distribution to whatever we were using above for interarrival time\u001b[0m\u001b[1;33m\u001b[0m\u001b[1;33m\u001b[0m\u001b[1;33m\u001b[0m\u001b[0m\n\u001b[1;32m----> 4\u001b[1;33m \u001b[0mmean_interarrival_time\u001b[0m \u001b[1;33m=\u001b[0m \u001b[0minterarrival_time\u001b[0m\u001b[1;33m\u001b[0m\u001b[1;33m\u001b[0m\u001b[0m\n\u001b[0m\u001b[0;32m      5\u001b[0m \u001b[1;31m# Create a random variable object based on the exponential distribution with the given mean\u001b[0m\u001b[1;33m\u001b[0m\u001b[1;33m\u001b[0m\u001b[1;33m\u001b[0m\u001b[0m\n\u001b[0;32m      6\u001b[0m \u001b[0mrv_expon\u001b[0m \u001b[1;33m=\u001b[0m \u001b[0mexpon\u001b[0m\u001b[1;33m(\u001b[0m\u001b[0mscale\u001b[0m\u001b[1;33m=\u001b[0m\u001b[0mmean_interarrival_time\u001b[0m\u001b[1;33m)\u001b[0m\u001b[1;33m\u001b[0m\u001b[1;33m\u001b[0m\u001b[0m\n",
      "\u001b[1;31mNameError\u001b[0m: name 'interarrival_time' is not defined"
     ]
    }
   ],
   "source": [
    "# Import exponential distribution function from scipy.stats\n",
    "from scipy.stats import expon\n",
    "# Set mean of this distribution to whatever we were using above for interarrival time\n",
    "mean_interarrival_time = interarrival_time\n",
    "# Create a random variable object based on the exponential distribution with the given mean\n",
    "rv_expon = expon(scale=mean_interarrival_time)"
   ]
  },
  {
   "cell_type": "code",
   "execution_count": null,
   "metadata": {},
   "outputs": [],
   "source": []
  },
  {
   "cell_type": "code",
   "execution_count": 11,
   "metadata": {},
   "outputs": [],
   "source": [
    "class Bank(object):\n",
    "    def __init__(self, env, num_greeters, num_bankers, rg):\n",
    "        # Simulation environment\n",
    "        self.env = env\n",
    "        self.rg = rg\n",
    "        \n",
    "        # Create list to hold timestamps dictionaries (one per patient)\n",
    "        self.timestamps_list = []\n",
    "        # Create lists to hold occupancy tuples (time, occ)\n",
    "        self.cust_waiting_list = [(0.0, 0.0)]\n",
    "        self.cust_beinghelped    = [(0.0, 0.0)]\n",
    "        \n",
    "        # Create resources\n",
    "        self.greeter = simpy.Resource(env, num_greeters)\n",
    "        self.banker = simpy.Resource(env, num_reg_staff)\n",
    "        #self.vaccinator = simpy.Resource(env, num_vaccinators)\n",
    "        #self.scheduler = simpy.Resource(env, num_schedulers)\n",
    "\n",
    "    # Create process methods - hard coding processing time distributions for now\n",
    "    # TODO - remove hard coding\n",
    "    # The patient argument is just a unique integer number\n",
    "    def sign_in(self, customer):\n",
    "        yield self.env.timeout(self.rg.normal(0.25, 0.05))\n",
    "\n",
    "    def wait_for_banker(self, customer):\n",
    "        yield self.env.timeout(self.rg.exponential(1.0))\n",
    "\n",
    "    def complete_application(self, customer):\n",
    "        yield self.env.timeout(self.rg.normal(4.0, 0.5))\n",
    "        \n",
    "    def open_account(self, customer):\n",
    "        yield self.env.timeout(self.rg.normal(1.0, 0.25))\n",
    "    \n",
    "    # We assume all patients wait at least 15 minutes post-vaccination\n",
    "    # Some will choose to wait longer. This is the time beyond 15 minutes\n",
    "    # that patients wait.\n",
    "    #def wait_gt_15(self, patient):\n",
    "        #yield self.env.timeout(self.rg.exponential(0.5))\n",
    "        \n",
    "     #   print(f\"Customer {customer} created at time {env.now}\")"
   ]
  },
  {
   "cell_type": "code",
   "execution_count": null,
   "metadata": {},
   "outputs": [],
   "source": [
    "def open_account(env, customer, bank, pct_first_dose, rg):\n",
    "    # Patient arrives to clinic - note the arrival time\n",
    "    arrival_ts = env.now\n",
    "\n",
    "    # Request a greeter to direct customer to wait for banker\n",
    "    # By using request() in a context manager, we'll automatically release the resource when done\n",
    "    with bank.greeter.request() as request:\n",
    "        yield request\n",
    "        # Now that we have a greeter, check temperature. Note time.\n",
    "        got_greeter_ts = env.now\n",
    "        yield env.process(bank.wait_for_banker(customer))\n",
    "        release_greeter_ts = env.now\n",
    "\n",
    "    # Request banker to help customer\n",
    "    with bank.banker.request() as request:\n",
    "        yield request\n",
    "        got_vaccinator_ts = env.now\n",
    "        # Update vac occupancy - increment by 1\n",
    "        prev_occ = clinic.vac_occupancy_list[-1][1]\n",
    "        new_occ = (env.now, prev_occ + 1)\n",
    "        clinic.vac_occupancy_list.append(new_occ)\n",
    "        yield env.process(clinic.vaccinate(patient))\n",
    "        release_vaccinator_ts = env.now\n",
    "\n",
    "\n",
    "    # Request reg staff to get registered\n",
    "    with clinic.reg_staff.request() as request:\n",
    "        yield request\n",
    "        got_reg_ts = env.now\n",
    "        yield env.process(clinic.registration(patient))\n",
    "        release_reg_ts = env.now\n",
    "        \n",
    "    # Request banker to help customer\n",
    "    with clinic.vaccinator.request() as request:\n",
    "        yield request\n",
    "        got_vaccinator_ts = env.now\n",
    "        # Update vac occupancy - increment by 1\n",
    "        prev_occ = clinic.vac_occupancy_list[-1][1]\n",
    "        new_occ = (env.now, prev_occ + 1)\n",
    "        clinic.vac_occupancy_list.append(new_occ)\n",
    "        yield env.process(clinic.vaccinate(patient))\n",
    "        release_vaccinator_ts = env.now\n",
    "        # Update vac occupancy - decrement by 1 - more compact code\n",
    "        # Note that clinic.vac_occupancy_list[-1] is the last tuple in the list\n",
    "        #  and that clinic.vac_occupancy_list[-1][1] is referencing the occupancy\n",
    "        #  value in the tuple (remember tuple elements are indexed starting with 0, so\n",
    "        #  the timestamp is at [0] and the occupancy is at [1]).\n",
    "        #  BTW, this suggests that perhaps using something known as \"namedtuples\" might\n",
    "        #  make our code more readable. See https://realpython.com/python-namedtuple/ \n",
    "        #  for a good introduction to namedtuples.\n",
    "        clinic.vac_occupancy_list.append((env.now, clinic.vac_occupancy_list[-1][1] - 1))\n",
    "        \n",
    "        # Update postvac occupancy - increment by 1\n",
    "        clinic.postvac_occupancy_list.append((env.now, clinic.postvac_occupancy_list[-1][1] + 1))\n",
    "\n",
    "    # Request scheduler to schedule second dose if needed\n",
    "    if rg.random() < pct_first_dose:\n",
    "        with clinic.scheduler.request() as request:\n",
    "            yield request\n",
    "            got_scheduler_ts = env.now\n",
    "            yield env.process(clinic.schedule_dose_2(patient))\n",
    "            release_scheduler_ts = env.now\n",
    "    else:\n",
    "        got_scheduler_ts = pd.NA\n",
    "        release_scheduler_ts = pd.NA\n",
    "        \n",
    "    # Wait at least 15 minutes from time we finished getting vaccinated \n",
    "    wait_for_banker = env.now - release_vaccinator_ts\n",
    "    if post_vac_time < 15:\n",
    "        # Wait until 15 total minutes post vac\n",
    "        yield env.timeout(15 - post_vac_time)\n",
    "        # Wait random amount beyond 15 minutes\n",
    "        yield env.process(clinic.wait_gt_15(patient))\n",
    "        exit_system_ts = env.now\n",
    "        \n",
    "        # Update postvac occupancy - decrement by 1\n",
    "        clinic.postvac_occupancy_list.append((env.now, clinic.postvac_occupancy_list[-1][1] - 1))\n",
    "    \n",
    "    exit_system_ts = env.now    \n",
    "    #print(f\"Patient {patient} exited at time {env.now}\")\n",
    "\n",
    "    # Create dictionary of timestamps\n",
    "    timestamps = {'patient_id': patient,\n",
    "                  'arrival_ts': arrival_ts,\n",
    "                  'got_greeter_ts': got_greeter_ts,\n",
    "                  'release_greeter_ts': release_greeter_ts,\n",
    "                  'got_reg_ts': got_reg_ts,\n",
    "                  'release_reg_ts': release_reg_ts,\n",
    "                  'got_vaccinator_ts': got_vaccinator_ts,\n",
    "                  'release_vaccinator_ts': release_vaccinator_ts,\n",
    "                  'got_scheduler_ts': got_scheduler_ts,\n",
    "                  'release_scheduler_ts': release_scheduler_ts,\n",
    "                  'exit_system_ts': exit_system_ts}\n",
    "    \n",
    "    clinic.timestamps_list.append(timestamps)"
   ]
  },
  {
   "cell_type": "code",
   "execution_count": null,
   "metadata": {},
   "outputs": [],
   "source": [
    "# Initialize a simulation environment\n",
    "env1 = simpy.Environment()\n",
    "\n",
    "# Create a process generator and start it and add it to the env\n",
    "# env.process() starts the patient_arrivals process and adds it to the environment\n",
    "runtime = 25\n",
    "interarrival_time = 3.0\n",
    "env1.process(customer_arrivals(env1, interarrival_time))\n",
    "\n",
    "# Run the simulation\n",
    "env1.run(until=runtime)"
   ]
  },
  {
   "cell_type": "code",
   "execution_count": null,
   "metadata": {},
   "outputs": [],
   "source": [
    "### The `get_vaccinated` function\n",
    "\n",
    "Now we'll create a general `get_vaccinated` function to define the sequence of steps traversed by patients. We'll also capture a bunch of timestamps to make it easy to compute various system performance measures such as patient waiting times, queue sizes and resource utilization. The inputs to this function include:\n",
    "\n",
    "* the simulation environment,\n",
    "* a patient id,\n",
    "* the clinic object (created from `VaccineClinic` class),\n",
    "* the percentage of patients that are there for their first dose,\n",
    "* the random number generator.\n",
    "\n",
    "#### Acquiring and releasing resources\n",
    "\n",
    "For each step in the vaccination process, you'll find a sequence of code blocks in which we:\n",
    "\n",
    "* attempt to acquire a certain type of staff resource, \n",
    "* once we acquire the resource we get processed by calling the appropriate method of the `VaccineClinic` object, \n",
    "* we release the resource.\n",
    "\n",
    "```python\n",
    "# Request reg staff to get registered\n",
    "with clinic.reg_staff.request() as request:\n",
    "    yield request\n",
    "    got_reg_ts = env.now\n",
    "    yield env.process(clinic.registration(patient, rg))\n",
    "    release_reg_ts = env.now\n",
    "```\n",
    "\n",
    "A few important points about the example above:\n",
    "\n",
    "* `request` is a type of SimPy event corresponding to our request to get one unit of the `reg_staff` resource,\n",
    "* We `yield` the `request` - in essence, suspending the function until the request can be satistfied,\n",
    "* once the request is satisfied, the next line, `got_reg_ts = env.now` gets executed and we get the current simulation time and store it in a local variable, `got_reg_ts` (later in the code we'll put this variable value into a dictionary that we persists throughout the entire simulation)\n",
    "* Now we do another `yield` but this time we are yielding a new `process` event, the actual `registration` (generator) function, which is part of the `clinic` object.\n",
    "* When the patient is done with the registration process, the next line, `release_reg_ts = env.now`, captures the registration finish time.\n",
    "\n",
    "We'll use this same code *pattern* throughout the `get_vaccinated` function as we move through the different stages of the vaccination process.\n",
    "\n",
    "#### Patient flow timestamps\n",
    "\n",
    "You just saw that we create numerous timestamp variables corresponding to things like when a patient starts and ends various stages of the vaccination process. For example:\n",
    "\n",
    "```python\n",
    "got_greeter_ts = env.now\n",
    "```\n",
    "\n",
    "Our goal is to be able to compute important durations such as how long each patient waited before starting vaccination or before registration. As long as we gather the necessary timestamps, we can compute an durations we want. At the end of the function you'll see that all of the timestamps are gathered up into a dictionary along with the patient id number and the dictionary stored in `timestamps_list`, an attribute of the clinic object.\n",
    "\n",
    "When the simulation is done, we can convert this list of dictionaries into a pandas dataframe, compute the important time durations for each patient and then do summary stats and plots on these new fields.\n",
    "\n",
    "#### Logging occupancy changes\n",
    "We are also interested in the number of patients present in the vaccination stage and the number in the post-vaccination observation stage. Unfortunately, SimPy no longer has built in *monitor* classes to track these things. So, we'll do it ourselves. In order to correctly compute time averaged occupancy statistics, we just need to log the time and occupancy level each time it changes. For example, when a patient acquires a staff member to administer the vaccination, the occupancy in the vaccination stage increases by 1. When the vaccination is complete and the patient releases the resource, the occupancy decreases by 1.\n",
    "\n",
    "If you look back at the `VaccineClinic` class definition, you'll see the initialization for the occupancy lists that we'll updating.\n",
    "\n",
    "```python\n",
    "self.vac_occupancy_list = [(0.0, 0.0)]\n",
    "```\n",
    "\n",
    "The `vac_occupancy_list` attribute is a list of tuples - (timestamp, occupancy). When the simulation begins, at time 0, there are 0 patients in the vaccination stage. Let's say that at time 4.5, the first patient starts the vaccination step and the second patient starts at 4.7. Here's how our `vac_occupancy_list` is changing \n",
    "\n",
    "```python\n",
    "# At time 4.5\n",
    "self.vac_occupancy_list = [(0.0, 0.0), (4.5, 1)]\n",
    "# At time 4.7\n",
    "self.vac_occupancy_list = [(0.0, 0.0), (4.5, 1), (4.7, 2)]\n",
    "```\n",
    "\n",
    "Now assume that one of the patients is done with the vaccination step at time 12.6.\n",
    "\n",
    "```python\n",
    "# At time 12.6\n",
    "self.vac_occupancy_list = [(0.0, 0.0), (4.5, 1), (4.7, 2), (12.6, 1)]\n",
    "```\n",
    "\n",
    "When the simulation is done, we'll convert the lists of tuples into a pandas dataframe and then do the appropriate statistical analysis to compute things like the mean and 95th percentile of occupancy in these two areas. Such statistics are useful for capacity planning."
   ]
  },
  {
   "cell_type": "code",
   "execution_count": null,
   "metadata": {},
   "outputs": [],
   "source": [
    "def get_vaccinated(env, patient, clinic, pct_first_dose, rg):\n",
    "    # Patient arrives to clinic - note the arrival time\n",
    "    arrival_ts = env.now\n",
    "\n",
    "    # Request a greeter for temperature check\n",
    "    # By using request() in a context manager, we'll automatically release the resource when done\n",
    "    with clinic.greeter.request() as request:\n",
    "        yield request\n",
    "        # Now that we have a greeter, check temperature. Note time.\n",
    "        got_greeter_ts = env.now\n",
    "        yield env.process(clinic.temperature_check(patient))\n",
    "        release_greeter_ts = env.now\n",
    "\n",
    "    # Request reg staff to get registered\n",
    "    with clinic.reg_staff.request() as request:\n",
    "        yield request\n",
    "        got_reg_ts = env.now\n",
    "        yield env.process(clinic.registration(patient))\n",
    "        release_reg_ts = env.now\n",
    "        \n",
    "    # Request clinical staff to get vaccinated\n",
    "    with clinic.vaccinator.request() as request:\n",
    "        yield request\n",
    "        got_vaccinator_ts = env.now\n",
    "        # Update vac occupancy - increment by 1\n",
    "        prev_occ = clinic.vac_occupancy_list[-1][1]\n",
    "        new_occ = (env.now, prev_occ + 1)\n",
    "        clinic.vac_occupancy_list.append(new_occ)\n",
    "        yield env.process(clinic.vaccinate(patient))\n",
    "        release_vaccinator_ts = env.now\n",
    "        # Update vac occupancy - decrement by 1 - more compact code\n",
    "        # Note that clinic.vac_occupancy_list[-1] is the last tuple in the list\n",
    "        #  and that clinic.vac_occupancy_list[-1][1] is referencing the occupancy\n",
    "        #  value in the tuple (remember tuple elements are indexed starting with 0, so\n",
    "        #  the timestamp is at [0] and the occupancy is at [1]).\n",
    "        #  BTW, this suggests that perhaps using something known as \"namedtuples\" might\n",
    "        #  make our code more readable. See https://realpython.com/python-namedtuple/ \n",
    "        #  for a good introduction to namedtuples.\n",
    "        clinic.vac_occupancy_list.append((env.now, clinic.vac_occupancy_list[-1][1] - 1))\n",
    "        \n",
    "        # Update postvac occupancy - increment by 1\n",
    "        clinic.postvac_occupancy_list.append((env.now, clinic.postvac_occupancy_list[-1][1] + 1))\n",
    "\n",
    "    # Request scheduler to schedule second dose if needed\n",
    "    if rg.random() < pct_first_dose:\n",
    "        with clinic.scheduler.request() as request:\n",
    "            yield request\n",
    "            got_scheduler_ts = env.now\n",
    "            yield env.process(clinic.schedule_dose_2(patient))\n",
    "            release_scheduler_ts = env.now\n",
    "    else:\n",
    "        got_scheduler_ts = pd.NA\n",
    "        release_scheduler_ts = pd.NA\n",
    "        \n",
    "    # Wait at least 15 minutes from time we finished getting vaccinated \n",
    "    post_vac_time = env.now - release_vaccinator_ts\n",
    "    if post_vac_time < 15:\n",
    "        # Wait until 15 total minutes post vac\n",
    "        yield env.timeout(15 - post_vac_time)\n",
    "        # Wait random amount beyond 15 minutes\n",
    "        yield env.process(clinic.wait_gt_15(patient))\n",
    "        exit_system_ts = env.now\n",
    "        \n",
    "        # Update postvac occupancy - decrement by 1\n",
    "        clinic.postvac_occupancy_list.append((env.now, clinic.postvac_occupancy_list[-1][1] - 1))\n",
    "    \n",
    "    exit_system_ts = env.now    \n",
    "    #print(f\"Patient {patient} exited at time {env.now}\")\n",
    "\n",
    "    # Create dictionary of timestamps\n",
    "    timestamps = {'patient_id': patient,\n",
    "                  'arrival_ts': arrival_ts,\n",
    "                  'got_greeter_ts': got_greeter_ts,\n",
    "                  'release_greeter_ts': release_greeter_ts,\n",
    "                  'got_reg_ts': got_reg_ts,\n",
    "                  'release_reg_ts': release_reg_ts,\n",
    "                  'got_vaccinator_ts': got_vaccinator_ts,\n",
    "                  'release_vaccinator_ts': release_vaccinator_ts,\n",
    "                  'got_scheduler_ts': got_scheduler_ts,\n",
    "                  'release_scheduler_ts': release_scheduler_ts,\n",
    "                  'exit_system_ts': exit_system_ts}\n",
    "    \n",
    "    clinic.timestamps_list.append(timestamps)"
   ]
  },
  {
   "cell_type": "code",
   "execution_count": null,
   "metadata": {},
   "outputs": [],
   "source": [
    "def run_clinic(env, clinic, mean_interarrival_time, pct_first_dose, rg, \n",
    "               stoptime=simpy.core.Infinity, max_arrivals=simpy.core.Infinity):\n",
    "      \n",
    "    # Create a counter to keep track of number of patients generated and to serve as unique patient id\n",
    "    patient = 0\n",
    "\n",
    "    # Loop for generating patients\n",
    "    while env.now < stoptime and patient < max_arrivals:\n",
    "\n",
    "        # Generate next interarrival time (this will be more complicated later)\n",
    "        iat = rg.exponential(mean_interarrival_time)\n",
    "        \n",
    "        # This process will now yield to a 'timeout' event. This process will resume after iat time units.\n",
    "        yield env.timeout(iat)\n",
    "\n",
    "        # New patient generated = update counter of patients\n",
    "        patient += 1\n",
    "        \n",
    "        #print(f\"Patient {patient} created at time {env.now}\")\n",
    "\n",
    "        env.process(get_vaccinated(env, patient, clinic, pct_first_dose, rg))\n",
    "        \n"
   ]
  },
  {
   "cell_type": "code",
   "execution_count": null,
   "metadata": {},
   "outputs": [],
   "source": [
    "def main():\n",
    "    \n",
    "    # For now we are hard coding the patient arrival rate (patients per hour)\n",
    "    patients_per_hour = 180\n",
    "    mean_interarrival_time = 1.0 / (patients_per_hour / 60.0)\n",
    "    pct_first_dose = 0.50\n",
    "    \n",
    "    # Create a random number generator\n",
    "    rg = default_rng(seed=4470)\n",
    "    \n",
    "    # For now we are going to hard code in the resource capacity levels \n",
    "    num_greeters = 2\n",
    "    num_reg_staff = 2\n",
    "    num_vaccinators = 12\n",
    "    num_schedulers = 2\n",
    "    \n",
    "    # Hours of operation\n",
    "    stoptime = 600 # No more arrivals after this time\n",
    "    \n",
    "    # Create a simulation environment\n",
    "    env = simpy.Environment()\n",
    "    # Create a clinic to simulate\n",
    "    clinic = VaccineClinic(env, num_greeters, num_reg_staff, num_vaccinators, num_schedulers, rg)\n",
    "    \n",
    "    # Register the run_clinic (generator) function\n",
    "    env.process(run_clinic(env, clinic, mean_interarrival_time, pct_first_dose, rg, stoptime=stoptime))\n",
    "    # Actually run the simulation\n",
    "    env.run()\n",
    "    \n",
    "    # The simulation is over now, let's create the output csv files from \n",
    "    # the dataframes created by running the simulation model.\n",
    "    \n",
    "    # Output log files \n",
    "    clinic_patient_log_df = pd.DataFrame(clinic.timestamps_list)\n",
    "    clinic_patient_log_df.to_csv('./output/clinic_patient_log_df.csv', index=False)\n",
    "    \n",
    "    vac_occupancy_df = pd.DataFrame(clinic.vac_occupancy_list, columns=['ts', 'occ'])\n",
    "    vac_occupancy_df.to_csv('./output/vac_occupancy_df.csv', index=False)\n",
    "    \n",
    "    postvac_occupancy_df = pd.DataFrame(clinic.postvac_occupancy_list, columns=['ts', 'occ'])\n",
    "    postvac_occupancy_df.to_csv('./output/postvac_occupancy_df.csv', index=False)\n",
    "    \n",
    "    # Note simulation end time\n",
    "    end_time = env.now\n",
    "    print(f\"Simulation ended at time {end_time}\")\n",
    "    return (end_time)\n",
    "\n"
   ]
  },
  {
   "cell_type": "code",
   "execution_count": null,
   "metadata": {},
   "outputs": [],
   "source": [
    "clinic_end_time = main()\n"
   ]
  },
  {
   "cell_type": "code",
   "execution_count": null,
   "metadata": {},
   "outputs": [],
   "source": []
  },
  {
   "cell_type": "code",
   "execution_count": null,
   "metadata": {},
   "outputs": [],
   "source": []
  },
  {
   "cell_type": "code",
   "execution_count": null,
   "metadata": {},
   "outputs": [],
   "source": []
  },
  {
   "cell_type": "code",
   "execution_count": null,
   "metadata": {},
   "outputs": [],
   "source": []
  },
  {
   "cell_type": "code",
   "execution_count": null,
   "metadata": {},
   "outputs": [],
   "source": []
  },
  {
   "cell_type": "code",
   "execution_count": null,
   "metadata": {},
   "outputs": [],
   "source": []
  }
 ],
 "metadata": {
  "interpreter": {
   "hash": "6e773fbeb6b834f92b861c3e490622dc9246978f97dc901f642f86251481dd7f"
  },
  "kernelspec": {
   "name": "python3",
   "display_name": "Python 3.7.10 64-bit ('aap': conda)"
  },
  "language_info": {
   "codemirror_mode": {
    "name": "ipython",
    "version": 3
   },
   "file_extension": ".py",
   "mimetype": "text/x-python",
   "name": "python",
   "nbconvert_exporter": "python",
   "pygments_lexer": "ipython3",
   "version": "3.7.10"
  },
  "toc-autonumbering": true
 },
 "nbformat": 4,
 "nbformat_minor": 4
}