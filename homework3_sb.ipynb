{
 "cells": [
  {
   "cell_type": "markdown",
   "metadata": {
    "Collapsed": "false"
   },
   "source": [
    "# Howework 3"
   ]
  },
  {
   "source": [
    "\n",
    "For the final howmeowrk assigment, my goal is to build a discrete even simulation (des) model.  The process I have chosen to analyze is the process of opening a bank account."
   ],
   "cell_type": "markdown",
   "metadata": {}
  },
  {
   "cell_type": "markdown",
   "metadata": {
    "Collapsed": "false"
   },
   "source": [
    "## Preliminaries"
   ]
  },
  {
   "cell_type": "markdown",
   "metadata": {
    "Collapsed": "false"
   },
   "source": [
    "Import commonly used libraries and magic command for inline plotting"
   ]
  },
  {
   "cell_type": "code",
   "execution_count": 1,
   "metadata": {
    "Collapsed": "false"
   },
   "outputs": [],
   "source": [
    "\n",
    "%load_ext autoreload\n",
    "%autoreload 2"
   ]
  },
  {
   "cell_type": "code",
   "execution_count": 2,
   "metadata": {
    "Collapsed": "false"
   },
   "outputs": [],
   "source": [
    "import math\n",
    "import numpy as np\n",
    "import pandas as pd\n",
    "from scipy import optimize\n",
    "from scipy.stats import expon\n",
    "import matplotlib.pyplot as plt\n",
    "import seaborn as sns\n",
    "from numpy.random import default_rng\n",
    "from IPython.display import Image\n",
    "import simpy\n",
    "\n"
   ]
  },
  {
   "cell_type": "code",
   "execution_count": 3,
   "metadata": {},
   "outputs": [],
   "source": [
    "%matplotlib inline"
   ]
  },
  {
   "cell_type": "markdown",
   "metadata": {
    "Collapsed": "false"
   },
   "source": [
    "## Review of DES for Opening a Bank Account"
   ]
  },
  {
   "cell_type": "code",
   "execution_count": 4,
   "metadata": {},
   "outputs": [
    {
     "output_type": "execute_result",
     "data": {
      "image/png": "[encoded data removed]",
      "text/plain": [
       "<IPython.core.display.Image object>"
      ]
     },
     "metadata": {},
     "execution_count": 4
    }
   ],
   "source": [
    "Image(\"images/bankflow.png\")"
   ]
  },
  {
   "source": [
    "The basic process of opening a bank account within a local branch (not from an online portal) involves the steps highlighted in the flowchart above.\n",
    "\n",
    "1. A customer arrivies at a bank.\n",
    "2. Customer is greeted by by bank staff to direct them to nature of their visit (for this scenario, opening an account).\n",
    "3. Customer waits for next available banker.\n",
    "4. Customer sits down wth banker to open an account.\n",
    "5. Customer exits the system.\n",
    "\n",
    "It is important to note that the Open Account portion consists of all the steps a banker would take to open a new account for a customer (i.e process the application, obtain signature cards, receive initial deposit, issue ATM/debit card, provide all account document to customer)"
   ],
   "cell_type": "markdown",
   "metadata": {}
  },
  {
   "source": [
    "### Bank Model"
   ],
   "cell_type": "markdown",
   "metadata": {}
  },
  {
   "cell_type": "code",
   "execution_count": 170,
   "metadata": {},
   "outputs": [],
   "source": [
    "# Create model evironment for bank\n",
    "class Bank(object):\n",
    "    def __init__(self, env, num_greeters, wait_area, num_bankers, rg):\n",
    "        \n",
    "        # Simulation environment\n",
    "        self.env = env\n",
    "        self.rg = rg\n",
    "        \n",
    "        # Create a list to hold timestamps dictionaries\n",
    "        self.timestamps_list = []\n",
    "       \n",
    "        # Create lists to hold occupancy tuples for customers waiting and customers being helped (time, occ)\n",
    "        self.cust_waiting_list = [(0.0, 0.0)]\n",
    "        self.cust_beinghelped_list = [(0.0, 0.0)]\n",
    "        \n",
    "        # Create resources for greeter and banker\n",
    "        self.greeter = simpy.Resource(env, num_greeters)\n",
    "        self.waiting = simpy.Resource(env, wait_area)\n",
    "        self.banker = simpy.Resource(env, num_bankers)\n",
    "\n",
    "    # Create process methods \n",
    "    def sign_in(self, customer):\n",
    "        yield self.env.timeout(self.rg.normal(0.1, 0.05))\n",
    "\n",
    "    def wait_for_banker(self, customer):\n",
    "        yield self.env.timeout(self.rg.exponential(0.2))\n",
    "        \n",
    "    def open_account(self, customer):\n",
    "        yield self.env.timeout(self.rg.exponential(1.0))\n"
   ]
  },
  {
   "source": [
    "### Open Bank Account Function"
   ],
   "cell_type": "markdown",
   "metadata": {}
  },
  {
   "cell_type": "code",
   "execution_count": 220,
   "metadata": {},
   "outputs": [],
   "source": [
    "def open_account(env, customer, bank, rg):\n",
    "    # Customer arrives to bank\n",
    "    arrival_ts = env.now\n",
    "\n",
    "    # Request a greeter to direct customer to wait for banker\n",
    "    with bank.greeter.request() as request:\n",
    "        yield request\n",
    "        got_greeter_ts = env.now\n",
    "        yield env.process(bank.sign_in(customer))\n",
    "        release_greeter_ts = env.now\n",
    "\n",
    "\n",
    "    # Wait no more than 15 minutes for next available banker\n",
    "    with bank.waiting.request() as request:\n",
    "        yield request\n",
    "        wait_time = env.now - release_greeter_ts\n",
    "    if wait_time < 15:\n",
    "        # Wait not more than 15 minuts\n",
    "        yield env.timeout(15 - wait_time)\n",
    "        # Wait random amount beyond 15 minutes\n",
    "        yield env.process(bank.wait_for_banker(customer))\n",
    "        release_wait_time = env.now\n",
    "\n",
    "        # Update waiting and being helped by banker lists by 1\n",
    "   \n",
    "        bank.cust_waiting_list.append((env.now, bank.cust_waiting_list[-1][1] + 1))\n",
    "\n",
    "        bank.cust_waiting_list.append((env.now, bank.cust_waiting_list[-1][1] - 1))\n",
    "\n",
    "        bank.cust_beinghelped_list.append((env.now, bank.cust_beinghelped_list[-1][1] + 1))\n",
    "\n",
    "    with bank.banker.request() as request:\n",
    "        yield request\n",
    "        got_banker_ts = env.now\n",
    "        pre_cust = bank.cust_beinghelped_list[-1][1]\n",
    "        new_cust = (env.now, pre_cust + 1)\n",
    "        bank.cust_beinghelped_list.append(new_cust)\n",
    "        yield env.process(bank.open_account(customer))\n",
    "        release_banker_ts = env.now\n",
    "\n",
    "        bank.cust_beinghelped_list.append((env.now, bank.cust_beinghelped_list[-1][1] - 1))\n",
    "    \n",
    "    exit_system_ts = env.now    \n",
    "\n",
    "    # Create dictionary of timestamps\n",
    "    timestamps = {'customer_id': customer,\n",
    "                  'arrival_ts': arrival_ts,\n",
    "                  'got_greeter_ts': got_greeter_ts,\n",
    "                  'release_greeter_ts': release_greeter_ts,\n",
    "                  'wait_time': wait_time,\n",
    "                  'release_wait_time': release_wait_time,\n",
    "                  'got_banker_ts': got_banker_ts,\n",
    "                  'release_banker_ts': release_banker_ts,\n",
    "                  'exit_system_ts': exit_system_ts}\n",
    "    \n",
    "    bank.timestamps_list.append(timestamps)"
   ]
  },
  {
   "source": [
    "### Function to run bank hour times"
   ],
   "cell_type": "markdown",
   "metadata": {}
  },
  {
   "cell_type": "code",
   "execution_count": 221,
   "metadata": {},
   "outputs": [],
   "source": [
    "# Running bank for specific hours\n",
    "\n",
    "def run_bank(env, bank, mean_interarrival_time, rg, \n",
    "               stoptime=simpy.core.Infinity, max_arrivals=simpy.core.Infinity):\n",
    "      \n",
    "    # Create a counter to keep track of number of customer witha unique customer id\n",
    "    customer = 0\n",
    "\n",
    "    # Loop for generating customers\n",
    "    while env.now < stoptime and customer < max_arrivals:\n",
    "\n",
    "        # Generate next interarrival time\n",
    "        iat = rg.exponential(mean_interarrival_time)\n",
    "        \n",
    "        # This process will now yield to a 'timeout' event. This process will resume after iat time units.\n",
    "        yield env.timeout(iat)\n",
    "\n",
    "        # New customer generated = update counter of customers\n",
    "        customer += 1\n",
    "        \n",
    "        #print(f\"Customer {customer} created at time {env.now}\")\n",
    "\n",
    "        env.process(open_account(env, customer, bank, rg))\n"
   ]
  },
  {
   "cell_type": "code",
   "execution_count": 218,
   "metadata": {},
   "outputs": [],
   "source": [
    "def main():\n",
    "    \n",
    "    # Customers arriving per hour\n",
    "    customers_per_hour = 5\n",
    "    mean_interarrival_time = 1.0 / (customers_per_hour / 60.0)\n",
    "  #  pct_first_dose = 0.50\n",
    "    \n",
    "    # Create a random number generator\n",
    "    rg = default_rng(seed=4470)\n",
    "    \n",
    "    # Capacity levels \n",
    "    num_greeters = 1\n",
    "    num_bankers = 5\n",
    "    wait_area = 2\n",
    "    \n",
    "    # Hours of operation assuming 8 hours for branch\n",
    "    stoptime = 480 \n",
    "    \n",
    "    # Create a simulation environment\n",
    "    env = simpy.Environment()\n",
    "\n",
    "    # Create a bank to simulate\n",
    "    bank = Bank(env, num_greeters, wait_area, num_bankers, rg)\n",
    "    \n",
    "    # Generator function\n",
    "    env.process(run_bank(env, bank, mean_interarrival_time, rg, stoptime=stoptime))\n",
    "\n",
    "    # Run the simulation\n",
    "    env.run()\n",
    "  \n",
    "    \n",
    "    # Output log files \n",
    "    bank_customer_log_df = pd.DataFrame(bank.timestamps_list)\n",
    "    bank_customer_log_df.to_csv('./output/bank_customer_log_df.csv', index=False)\n",
    "    \n",
    "    cust_waiting_df = pd.DataFrame(bank.cust_waiting_list, columns=['ts', 'occ'])\n",
    "    cust_waiting_df.to_csv('./output/cust_waiting_df.csv', index=False)    \n",
    "    \n",
    "    cust_beinghelped_df = pd.DataFrame(bank.cust_beinghelped_list, columns=['ts', 'occ'])\n",
    "    cust_beinghelped_df.to_csv('./output/cust_beinghelped_df.csv', index=False)\n",
    "    \n",
    "\n",
    "    # Note simulation end time\n",
    "    end_time = env.now\n",
    "    print(f\"Simulation ended at time {end_time}\")\n",
    "    return (end_time)\n"
   ]
  },
  {
   "cell_type": "code",
   "execution_count": 222,
   "metadata": {},
   "outputs": [
    {
     "output_type": "stream",
     "name": "stdout",
     "text": [
      "Simulation ended at time 498.7174296896807\n"
     ]
    }
   ],
   "source": [
    "bank_end_time = main()"
   ]
  },
  {
   "cell_type": "code",
   "execution_count": null,
   "metadata": {},
   "outputs": [],
   "source": [
    "Good news!  The simulation ran!!!"
   ]
  },
  {
   "source": [
    "### Review Results"
   ],
   "cell_type": "markdown",
   "metadata": {}
  },
  {
   "source": [
    "Bad news...the simulation ran a little weird.\n",
    "\n",
    "Looking at the below results, the simulation allowed an arrival after 480 minutes.  The last customer id logged at 483.238397.  The wait time calculation is off and so is the calculation for the time it should take the open an account.  Any correction attempts to the code resulted in errors or negative intervals.  Alhtough the times within the intervals are off, the overall simulation time ranges between 15 to 20 minutes, which was close to the overall time I was aiming for to obtain for this model.\n",
    "\n",
    "Overall, I was aiming for wait time of no more than 15 minutes and time with the banker to be no more than 20 minutes.  The overall time should be around 30 minutes, so clearly soemthing is wrong with the code."
   ],
   "cell_type": "markdown",
   "metadata": {}
  },
  {
   "cell_type": "code",
   "execution_count": 158,
   "metadata": {},
   "outputs": [
    {
     "output_type": "stream",
     "name": "stdout",
     "text": [
      "<class 'pandas.core.frame.DataFrame'>\nRangeIndex: 35 entries, 0 to 34\nData columns (total 9 columns):\n #   Column              Non-Null Count  Dtype  \n---  ------              --------------  -----  \n 0   customer_id         35 non-null     int64  \n 1   arrival_ts          35 non-null     float64\n 2   got_greeter_ts      35 non-null     float64\n 3   release_greeter_ts  35 non-null     float64\n 4   wait_time           35 non-null     float64\n 5   release_wait_time   35 non-null     float64\n 6   got_banker_ts       35 non-null     float64\n 7   release_banker_ts   35 non-null     float64\n 8   exit_system_ts      35 non-null     float64\ndtypes: float64(8), int64(1)\nmemory usage: 2.6 KB\n"
     ]
    }
   ],
   "source": [
    "bank_customer_log_df = pd.read_csv('./output/bank_customer_log_df.csv')\n",
    "bank_customer_log_df.info()"
   ]
  },
  {
   "cell_type": "code",
   "execution_count": 159,
   "metadata": {},
   "outputs": [
    {
     "output_type": "execute_result",
     "data": {
      "text/plain": [
       "   customer_id  arrival_ts  got_greeter_ts  release_greeter_ts  wait_time  \\\n",
       "0            1    9.329902        9.329902            9.355366        0.0   \n",
       "1            2   10.381414       10.381414           10.508986        0.0   \n",
       "2            3   14.770321       14.770321           14.964427        0.0   \n",
       "3            4   25.837589       25.837589           25.923394        0.0   \n",
       "4            5   48.354626       48.354626           48.408939        0.0   \n",
       "\n",
       "   release_wait_time  got_banker_ts  release_banker_ts  exit_system_ts  \n",
       "0          24.496339      24.496339          25.414548       25.414548  \n",
       "1          25.542604      25.542604          25.582912       25.582912  \n",
       "2          30.102841      30.102841          30.172707       30.172707  \n",
       "3          40.950520      40.950520          41.201133       41.201133  \n",
       "4          63.597459      63.597459          64.157129       64.157129  "
      ],
      "text/html": "<div>\n<style scoped>\n    .dataframe tbody tr th:only-of-type {\n        vertical-align: middle;\n    }\n\n    .dataframe tbody tr th {\n        vertical-align: top;\n    }\n\n    .dataframe thead th {\n        text-align: right;\n    }\n</style>\n<table border=\"1\" class=\"dataframe\">\n  <thead>\n    <tr style=\"text-align: right;\">\n      <th></th>\n      <th>customer_id</th>\n      <th>arrival_ts</th>\n      <th>got_greeter_ts</th>\n      <th>release_greeter_ts</th>\n      <th>wait_time</th>\n      <th>release_wait_time</th>\n      <th>got_banker_ts</th>\n      <th>release_banker_ts</th>\n      <th>exit_system_ts</th>\n    </tr>\n  </thead>\n  <tbody>\n    <tr>\n      <th>0</th>\n      <td>1</td>\n      <td>9.329902</td>\n      <td>9.329902</td>\n      <td>9.355366</td>\n      <td>0.0</td>\n      <td>24.496339</td>\n      <td>24.496339</td>\n      <td>25.414548</td>\n      <td>25.414548</td>\n    </tr>\n    <tr>\n      <th>1</th>\n      <td>2</td>\n      <td>10.381414</td>\n      <td>10.381414</td>\n      <td>10.508986</td>\n      <td>0.0</td>\n      <td>25.542604</td>\n      <td>25.542604</td>\n      <td>25.582912</td>\n      <td>25.582912</td>\n    </tr>\n    <tr>\n      <th>2</th>\n      <td>3</td>\n      <td>14.770321</td>\n      <td>14.770321</td>\n      <td>14.964427</td>\n      <td>0.0</td>\n      <td>30.102841</td>\n      <td>30.102841</td>\n      <td>30.172707</td>\n      <td>30.172707</td>\n    </tr>\n    <tr>\n      <th>3</th>\n      <td>4</td>\n      <td>25.837589</td>\n      <td>25.837589</td>\n      <td>25.923394</td>\n      <td>0.0</td>\n      <td>40.950520</td>\n      <td>40.950520</td>\n      <td>41.201133</td>\n      <td>41.201133</td>\n    </tr>\n    <tr>\n      <th>4</th>\n      <td>5</td>\n      <td>48.354626</td>\n      <td>48.354626</td>\n      <td>48.408939</td>\n      <td>0.0</td>\n      <td>63.597459</td>\n      <td>63.597459</td>\n      <td>64.157129</td>\n      <td>64.157129</td>\n    </tr>\n  </tbody>\n</table>\n</div>"
     },
     "metadata": {},
     "execution_count": 159
    }
   ],
   "source": [
    "bank_customer_log_df.head()"
   ]
  },
  {
   "cell_type": "code",
   "execution_count": 160,
   "metadata": {},
   "outputs": [],
   "source": [
    "def compute_durations(timestamp_df):\n",
    "    \n",
    "    timestamp_df['wait_for_greeter'] = timestamp_df.loc[:, 'got_greeter_ts'] - timestamp_df.loc[:, 'arrival_ts']\n",
    "    timestamp_df['waiting_for_banker_time'] = timestamp_df.loc[:, 'release_wait_time'] - timestamp_df.loc[:, 'wait_time']\n",
    "    timestamp_df['open_account_time'] = timestamp_df.loc[:, 'release_banker_ts'] - timestamp_df.loc[:, 'got_banker_ts']\n",
    "    timestamp_df['time_in_system'] = timestamp_df.loc[:, 'exit_system_ts'] - timestamp_df.loc[:, 'arrival_ts']\n",
    "    \n",
    "    return timestamp_df"
   ]
  },
  {
   "cell_type": "code",
   "execution_count": 161,
   "metadata": {},
   "outputs": [
    {
     "output_type": "execute_result",
     "data": {
      "text/plain": [
       "    customer_id  arrival_ts  got_greeter_ts  release_greeter_ts  wait_time  \\\n",
       "0             1    9.329902        9.329902            9.355366        0.0   \n",
       "1             2   10.381414       10.381414           10.508986        0.0   \n",
       "2             3   14.770321       14.770321           14.964427        0.0   \n",
       "3             4   25.837589       25.837589           25.923394        0.0   \n",
       "4             5   48.354626       48.354626           48.408939        0.0   \n",
       "5             6   67.659899       67.659899           67.820890        0.0   \n",
       "6             7   74.887798       74.887798           75.010757        0.0   \n",
       "7             8  106.582379      106.582379          106.721493        0.0   \n",
       "8            10  124.143673      124.143673          124.212781        0.0   \n",
       "9             9  121.320879      121.320879          121.374144        0.0   \n",
       "10           11  143.324038      143.324038          143.450344        0.0   \n",
       "11           12  149.736391      149.736391          149.881303        0.0   \n",
       "12           14  158.291080      158.291080          158.339103        0.0   \n",
       "13           13  158.163803      158.163803          158.233681        0.0   \n",
       "14           15  159.332429      159.332429          159.437901        0.0   \n",
       "15           16  178.348230      178.348230          178.514450        0.0   \n",
       "16           17  193.085694      193.085694          193.212035        0.0   \n",
       "17           18  197.580279      197.580279          197.715152        0.0   \n",
       "18           19  229.274479      229.274479          229.356833        0.0   \n",
       "19           20  264.300702      264.300702          264.424786        0.0   \n",
       "20           21  277.058594      277.058594          277.136904        0.0   \n",
       "21           22  288.446187      288.446187          288.585640        0.0   \n",
       "22           23  288.459027      288.585640          288.657029        0.0   \n",
       "23           24  293.720117      293.720117          293.736877        0.0   \n",
       "24           25  299.506835      299.506835          299.673350        0.0   \n",
       "25           26  305.281522      305.281522          305.381135        0.0   \n",
       "26           27  315.402171      315.402171          315.489732        0.0   \n",
       "27           28  320.103307      320.103307          320.203726        0.0   \n",
       "28           29  320.282501      320.282501          320.367663        0.0   \n",
       "29           30  322.100680      322.100680          322.139612        0.0   \n",
       "30           31  390.046507      390.046507          390.160277        0.0   \n",
       "31           32  394.563985      394.563985          394.687530        0.0   \n",
       "32           33  424.035714      424.035714          424.162916        0.0   \n",
       "33           34  467.978028      467.978028          468.080723        0.0   \n",
       "34           35  483.238397      483.238397          483.399963        0.0   \n",
       "\n",
       "    release_wait_time  got_banker_ts  release_banker_ts  exit_system_ts  \\\n",
       "0           24.496339      24.496339          25.414548       25.414548   \n",
       "1           25.542604      25.542604          25.582912       25.582912   \n",
       "2           30.102841      30.102841          30.172707       30.172707   \n",
       "3           40.950520      40.950520          41.201133       41.201133   \n",
       "4           63.597459      63.597459          64.157129       64.157129   \n",
       "5           82.875900      82.875900          82.943972       82.943972   \n",
       "6           90.097273      90.097273          90.824748       90.824748   \n",
       "7          121.954782     121.954782         122.864684      122.864684   \n",
       "8          139.259668     139.259668         139.839038      139.839038   \n",
       "9          136.636242     136.636242         140.452410      140.452410   \n",
       "10         158.521254     158.521254         158.581771      158.581771   \n",
       "11         165.057759     165.057759         168.987039      168.987039   \n",
       "12         173.448227     173.448227         173.834789      173.834789   \n",
       "13         173.271679     173.271679         175.061398      175.061398   \n",
       "14         174.460165     174.460165         177.428995      177.428995   \n",
       "15         193.853356     193.853356         195.152417      195.152417   \n",
       "16         208.412327     208.412327         210.791876      210.791876   \n",
       "17         213.327751     213.327751         214.567984      214.567984   \n",
       "18         244.430794     244.430794         245.096851      245.096851   \n",
       "19         279.598446     279.598446         279.700600      279.700600   \n",
       "20         292.221600     292.221600         293.953704      293.953704   \n",
       "21         303.605912     303.605912         303.758904      303.758904   \n",
       "22         304.556057     304.556057         305.225632      305.225632   \n",
       "23         309.207219     309.207219         309.410591      309.410591   \n",
       "24         314.721643     314.721643         320.470667      320.470667   \n",
       "25         321.355409     321.355409         322.515687      322.515687   \n",
       "26         330.607767     330.607767         330.716432      330.716432   \n",
       "27         335.368921     335.368921         335.832785      335.832785   \n",
       "28         335.385201     335.385201         336.638334      336.638334   \n",
       "29         337.291705     337.291705         338.764978      338.764978   \n",
       "30         405.345278     405.345278         407.027707      407.027707   \n",
       "31         409.964312     409.964312         410.327119      410.327119   \n",
       "32         439.184180     439.184180         440.968481      440.968481   \n",
       "33         483.210405     483.210405         483.391632      483.391632   \n",
       "34         498.424497     498.424497         498.717430      498.717430   \n",
       "\n",
       "    wait_for_greeter  waiting_for_banker_time  open_account_time  \\\n",
       "0           0.000000                24.496339           0.918209   \n",
       "1           0.000000                25.542604           0.040307   \n",
       "2           0.000000                30.102841           0.069866   \n",
       "3           0.000000                40.950520           0.250613   \n",
       "4           0.000000                63.597459           0.559670   \n",
       "5           0.000000                82.875900           0.068072   \n",
       "6           0.000000                90.097273           0.727476   \n",
       "7           0.000000               121.954782           0.909902   \n",
       "8           0.000000               139.259668           0.579370   \n",
       "9           0.000000               136.636242           3.816168   \n",
       "10          0.000000               158.521254           0.060517   \n",
       "11          0.000000               165.057759           3.929280   \n",
       "12          0.000000               173.448227           0.386562   \n",
       "13          0.000000               173.271679           1.789719   \n",
       "14          0.000000               174.460165           2.968830   \n",
       "15          0.000000               193.853356           1.299061   \n",
       "16          0.000000               208.412327           2.379549   \n",
       "17          0.000000               213.327751           1.240233   \n",
       "18          0.000000               244.430794           0.666057   \n",
       "19          0.000000               279.598446           0.102154   \n",
       "20          0.000000               292.221600           1.732105   \n",
       "21          0.000000               303.605912           0.152992   \n",
       "22          0.126613               304.556057           0.669575   \n",
       "23          0.000000               309.207219           0.203372   \n",
       "24          0.000000               314.721643           5.749023   \n",
       "25          0.000000               321.355409           1.160278   \n",
       "26          0.000000               330.607767           0.108666   \n",
       "27          0.000000               335.368921           0.463864   \n",
       "28          0.000000               335.385201           1.253133   \n",
       "29          0.000000               337.291705           1.473273   \n",
       "30          0.000000               405.345278           1.682428   \n",
       "31          0.000000               409.964312           0.362807   \n",
       "32          0.000000               439.184180           1.784300   \n",
       "33          0.000000               483.210405           0.181227   \n",
       "34          0.000000               498.424497           0.292932   \n",
       "\n",
       "    time_in_system  \n",
       "0        16.084646  \n",
       "1        15.201497  \n",
       "2        15.402386  \n",
       "3        15.363544  \n",
       "4        15.802503  \n",
       "5        15.284073  \n",
       "6        15.936950  \n",
       "7        16.282305  \n",
       "8        15.695365  \n",
       "9        19.131531  \n",
       "10       15.257733  \n",
       "11       19.250648  \n",
       "12       15.543709  \n",
       "13       16.897595  \n",
       "14       18.096566  \n",
       "15       16.804186  \n",
       "16       17.706182  \n",
       "17       16.987706  \n",
       "18       15.822372  \n",
       "19       15.399899  \n",
       "20       16.895110  \n",
       "21       15.312717  \n",
       "22       16.766605  \n",
       "23       15.690474  \n",
       "24       20.963831  \n",
       "25       17.234166  \n",
       "26       15.314261  \n",
       "27       15.729478  \n",
       "28       16.355833  \n",
       "29       16.664298  \n",
       "30       16.981200  \n",
       "31       15.763134  \n",
       "32       16.932767  \n",
       "33       15.413604  \n",
       "34       15.479032  "
      ],
      "text/html": "<div>\n<style scoped>\n    .dataframe tbody tr th:only-of-type {\n        vertical-align: middle;\n    }\n\n    .dataframe tbody tr th {\n        vertical-align: top;\n    }\n\n    .dataframe thead th {\n        text-align: right;\n    }\n</style>\n<table border=\"1\" class=\"dataframe\">\n  <thead>\n    <tr style=\"text-align: right;\">\n      <th></th>\n      <th>customer_id</th>\n      <th>arrival_ts</th>\n      <th>got_greeter_ts</th>\n      <th>release_greeter_ts</th>\n      <th>wait_time</th>\n      <th>release_wait_time</th>\n      <th>got_banker_ts</th>\n      <th>release_banker_ts</th>\n      <th>exit_system_ts</th>\n      <th>wait_for_greeter</th>\n      <th>waiting_for_banker_time</th>\n      <th>open_account_time</th>\n      <th>time_in_system</th>\n    </tr>\n  </thead>\n  <tbody>\n    <tr>\n      <th>0</th>\n      <td>1</td>\n      <td>9.329902</td>\n      <td>9.329902</td>\n      <td>9.355366</td>\n      <td>0.0</td>\n      <td>24.496339</td>\n      <td>24.496339</td>\n      <td>25.414548</td>\n      <td>25.414548</td>\n      <td>0.000000</td>\n      <td>24.496339</td>\n      <td>0.918209</td>\n      <td>16.084646</td>\n    </tr>\n    <tr>\n      <th>1</th>\n      <td>2</td>\n      <td>10.381414</td>\n      <td>10.381414</td>\n      <td>10.508986</td>\n      <td>0.0</td>\n      <td>25.542604</td>\n      <td>25.542604</td>\n      <td>25.582912</td>\n      <td>25.582912</td>\n      <td>0.000000</td>\n      <td>25.542604</td>\n      <td>0.040307</td>\n      <td>15.201497</td>\n    </tr>\n    <tr>\n      <th>2</th>\n      <td>3</td>\n      <td>14.770321</td>\n      <td>14.770321</td>\n      <td>14.964427</td>\n      <td>0.0</td>\n      <td>30.102841</td>\n      <td>30.102841</td>\n      <td>30.172707</td>\n      <td>30.172707</td>\n      <td>0.000000</td>\n      <td>30.102841</td>\n      <td>0.069866</td>\n      <td>15.402386</td>\n    </tr>\n    <tr>\n      <th>3</th>\n      <td>4</td>\n      <td>25.837589</td>\n      <td>25.837589</td>\n      <td>25.923394</td>\n      <td>0.0</td>\n      <td>40.950520</td>\n      <td>40.950520</td>\n      <td>41.201133</td>\n      <td>41.201133</td>\n      <td>0.000000</td>\n      <td>40.950520</td>\n      <td>0.250613</td>\n      <td>15.363544</td>\n    </tr>\n    <tr>\n      <th>4</th>\n      <td>5</td>\n      <td>48.354626</td>\n      <td>48.354626</td>\n      <td>48.408939</td>\n      <td>0.0</td>\n      <td>63.597459</td>\n      <td>63.597459</td>\n      <td>64.157129</td>\n      <td>64.157129</td>\n      <td>0.000000</td>\n      <td>63.597459</td>\n      <td>0.559670</td>\n      <td>15.802503</td>\n    </tr>\n    <tr>\n      <th>5</th>\n      <td>6</td>\n      <td>67.659899</td>\n      <td>67.659899</td>\n      <td>67.820890</td>\n      <td>0.0</td>\n      <td>82.875900</td>\n      <td>82.875900</td>\n      <td>82.943972</td>\n      <td>82.943972</td>\n      <td>0.000000</td>\n      <td>82.875900</td>\n      <td>0.068072</td>\n      <td>15.284073</td>\n    </tr>\n    <tr>\n      <th>6</th>\n      <td>7</td>\n      <td>74.887798</td>\n      <td>74.887798</td>\n      <td>75.010757</td>\n      <td>0.0</td>\n      <td>90.097273</td>\n      <td>90.097273</td>\n      <td>90.824748</td>\n      <td>90.824748</td>\n      <td>0.000000</td>\n      <td>90.097273</td>\n      <td>0.727476</td>\n      <td>15.936950</td>\n    </tr>\n    <tr>\n      <th>7</th>\n      <td>8</td>\n      <td>106.582379</td>\n      <td>106.582379</td>\n      <td>106.721493</td>\n      <td>0.0</td>\n      <td>121.954782</td>\n      <td>121.954782</td>\n      <td>122.864684</td>\n      <td>122.864684</td>\n      <td>0.000000</td>\n      <td>121.954782</td>\n      <td>0.909902</td>\n      <td>16.282305</td>\n    </tr>\n    <tr>\n      <th>8</th>\n      <td>10</td>\n      <td>124.143673</td>\n      <td>124.143673</td>\n      <td>124.212781</td>\n      <td>0.0</td>\n      <td>139.259668</td>\n      <td>139.259668</td>\n      <td>139.839038</td>\n      <td>139.839038</td>\n      <td>0.000000</td>\n      <td>139.259668</td>\n      <td>0.579370</td>\n      <td>15.695365</td>\n    </tr>\n    <tr>\n      <th>9</th>\n      <td>9</td>\n      <td>121.320879</td>\n      <td>121.320879</td>\n      <td>121.374144</td>\n      <td>0.0</td>\n      <td>136.636242</td>\n      <td>136.636242</td>\n      <td>140.452410</td>\n      <td>140.452410</td>\n      <td>0.000000</td>\n      <td>136.636242</td>\n      <td>3.816168</td>\n      <td>19.131531</td>\n    </tr>\n    <tr>\n      <th>10</th>\n      <td>11</td>\n      <td>143.324038</td>\n      <td>143.324038</td>\n      <td>143.450344</td>\n      <td>0.0</td>\n      <td>158.521254</td>\n      <td>158.521254</td>\n      <td>158.581771</td>\n      <td>158.581771</td>\n      <td>0.000000</td>\n      <td>158.521254</td>\n      <td>0.060517</td>\n      <td>15.257733</td>\n    </tr>\n    <tr>\n      <th>11</th>\n      <td>12</td>\n      <td>149.736391</td>\n      <td>149.736391</td>\n      <td>149.881303</td>\n      <td>0.0</td>\n      <td>165.057759</td>\n      <td>165.057759</td>\n      <td>168.987039</td>\n      <td>168.987039</td>\n      <td>0.000000</td>\n      <td>165.057759</td>\n      <td>3.929280</td>\n      <td>19.250648</td>\n    </tr>\n    <tr>\n      <th>12</th>\n      <td>14</td>\n      <td>158.291080</td>\n      <td>158.291080</td>\n      <td>158.339103</td>\n      <td>0.0</td>\n      <td>173.448227</td>\n      <td>173.448227</td>\n      <td>173.834789</td>\n      <td>173.834789</td>\n      <td>0.000000</td>\n      <td>173.448227</td>\n      <td>0.386562</td>\n      <td>15.543709</td>\n    </tr>\n    <tr>\n      <th>13</th>\n      <td>13</td>\n      <td>158.163803</td>\n      <td>158.163803</td>\n      <td>158.233681</td>\n      <td>0.0</td>\n      <td>173.271679</td>\n      <td>173.271679</td>\n      <td>175.061398</td>\n      <td>175.061398</td>\n      <td>0.000000</td>\n      <td>173.271679</td>\n      <td>1.789719</td>\n      <td>16.897595</td>\n    </tr>\n    <tr>\n      <th>14</th>\n      <td>15</td>\n      <td>159.332429</td>\n      <td>159.332429</td>\n      <td>159.437901</td>\n      <td>0.0</td>\n      <td>174.460165</td>\n      <td>174.460165</td>\n      <td>177.428995</td>\n      <td>177.428995</td>\n      <td>0.000000</td>\n      <td>174.460165</td>\n      <td>2.968830</td>\n      <td>18.096566</td>\n    </tr>\n    <tr>\n      <th>15</th>\n      <td>16</td>\n      <td>178.348230</td>\n      <td>178.348230</td>\n      <td>178.514450</td>\n      <td>0.0</td>\n      <td>193.853356</td>\n      <td>193.853356</td>\n      <td>195.152417</td>\n      <td>195.152417</td>\n      <td>0.000000</td>\n      <td>193.853356</td>\n      <td>1.299061</td>\n      <td>16.804186</td>\n    </tr>\n    <tr>\n      <th>16</th>\n      <td>17</td>\n      <td>193.085694</td>\n      <td>193.085694</td>\n      <td>193.212035</td>\n      <td>0.0</td>\n      <td>208.412327</td>\n      <td>208.412327</td>\n      <td>210.791876</td>\n      <td>210.791876</td>\n      <td>0.000000</td>\n      <td>208.412327</td>\n      <td>2.379549</td>\n      <td>17.706182</td>\n    </tr>\n    <tr>\n      <th>17</th>\n      <td>18</td>\n      <td>197.580279</td>\n      <td>197.580279</td>\n      <td>197.715152</td>\n      <td>0.0</td>\n      <td>213.327751</td>\n      <td>213.327751</td>\n      <td>214.567984</td>\n      <td>214.567984</td>\n      <td>0.000000</td>\n      <td>213.327751</td>\n      <td>1.240233</td>\n      <td>16.987706</td>\n    </tr>\n    <tr>\n      <th>18</th>\n      <td>19</td>\n      <td>229.274479</td>\n      <td>229.274479</td>\n      <td>229.356833</td>\n      <td>0.0</td>\n      <td>244.430794</td>\n      <td>244.430794</td>\n      <td>245.096851</td>\n      <td>245.096851</td>\n      <td>0.000000</td>\n      <td>244.430794</td>\n      <td>0.666057</td>\n      <td>15.822372</td>\n    </tr>\n    <tr>\n      <th>19</th>\n      <td>20</td>\n      <td>264.300702</td>\n      <td>264.300702</td>\n      <td>264.424786</td>\n      <td>0.0</td>\n      <td>279.598446</td>\n      <td>279.598446</td>\n      <td>279.700600</td>\n      <td>279.700600</td>\n      <td>0.000000</td>\n      <td>279.598446</td>\n      <td>0.102154</td>\n      <td>15.399899</td>\n    </tr>\n    <tr>\n      <th>20</th>\n      <td>21</td>\n      <td>277.058594</td>\n      <td>277.058594</td>\n      <td>277.136904</td>\n      <td>0.0</td>\n      <td>292.221600</td>\n      <td>292.221600</td>\n      <td>293.953704</td>\n      <td>293.953704</td>\n      <td>0.000000</td>\n      <td>292.221600</td>\n      <td>1.732105</td>\n      <td>16.895110</td>\n    </tr>\n    <tr>\n      <th>21</th>\n      <td>22</td>\n      <td>288.446187</td>\n      <td>288.446187</td>\n      <td>288.585640</td>\n      <td>0.0</td>\n      <td>303.605912</td>\n      <td>303.605912</td>\n      <td>303.758904</td>\n      <td>303.758904</td>\n      <td>0.000000</td>\n      <td>303.605912</td>\n      <td>0.152992</td>\n      <td>15.312717</td>\n    </tr>\n    <tr>\n      <th>22</th>\n      <td>23</td>\n      <td>288.459027</td>\n      <td>288.585640</td>\n      <td>288.657029</td>\n      <td>0.0</td>\n      <td>304.556057</td>\n      <td>304.556057</td>\n      <td>305.225632</td>\n      <td>305.225632</td>\n      <td>0.126613</td>\n      <td>304.556057</td>\n      <td>0.669575</td>\n      <td>16.766605</td>\n    </tr>\n    <tr>\n      <th>23</th>\n      <td>24</td>\n      <td>293.720117</td>\n      <td>293.720117</td>\n      <td>293.736877</td>\n      <td>0.0</td>\n      <td>309.207219</td>\n      <td>309.207219</td>\n      <td>309.410591</td>\n      <td>309.410591</td>\n      <td>0.000000</td>\n      <td>309.207219</td>\n      <td>0.203372</td>\n      <td>15.690474</td>\n    </tr>\n    <tr>\n      <th>24</th>\n      <td>25</td>\n      <td>299.506835</td>\n      <td>299.506835</td>\n      <td>299.673350</td>\n      <td>0.0</td>\n      <td>314.721643</td>\n      <td>314.721643</td>\n      <td>320.470667</td>\n      <td>320.470667</td>\n      <td>0.000000</td>\n      <td>314.721643</td>\n      <td>5.749023</td>\n      <td>20.963831</td>\n    </tr>\n    <tr>\n      <th>25</th>\n      <td>26</td>\n      <td>305.281522</td>\n      <td>305.281522</td>\n      <td>305.381135</td>\n      <td>0.0</td>\n      <td>321.355409</td>\n      <td>321.355409</td>\n      <td>322.515687</td>\n      <td>322.515687</td>\n      <td>0.000000</td>\n      <td>321.355409</td>\n      <td>1.160278</td>\n      <td>17.234166</td>\n    </tr>\n    <tr>\n      <th>26</th>\n      <td>27</td>\n      <td>315.402171</td>\n      <td>315.402171</td>\n      <td>315.489732</td>\n      <td>0.0</td>\n      <td>330.607767</td>\n      <td>330.607767</td>\n      <td>330.716432</td>\n      <td>330.716432</td>\n      <td>0.000000</td>\n      <td>330.607767</td>\n      <td>0.108666</td>\n      <td>15.314261</td>\n    </tr>\n    <tr>\n      <th>27</th>\n      <td>28</td>\n      <td>320.103307</td>\n      <td>320.103307</td>\n      <td>320.203726</td>\n      <td>0.0</td>\n      <td>335.368921</td>\n      <td>335.368921</td>\n      <td>335.832785</td>\n      <td>335.832785</td>\n      <td>0.000000</td>\n      <td>335.368921</td>\n      <td>0.463864</td>\n      <td>15.729478</td>\n    </tr>\n    <tr>\n      <th>28</th>\n      <td>29</td>\n      <td>320.282501</td>\n      <td>320.282501</td>\n      <td>320.367663</td>\n      <td>0.0</td>\n      <td>335.385201</td>\n      <td>335.385201</td>\n      <td>336.638334</td>\n      <td>336.638334</td>\n      <td>0.000000</td>\n      <td>335.385201</td>\n      <td>1.253133</td>\n      <td>16.355833</td>\n    </tr>\n    <tr>\n      <th>29</th>\n      <td>30</td>\n      <td>322.100680</td>\n      <td>322.100680</td>\n      <td>322.139612</td>\n      <td>0.0</td>\n      <td>337.291705</td>\n      <td>337.291705</td>\n      <td>338.764978</td>\n      <td>338.764978</td>\n      <td>0.000000</td>\n      <td>337.291705</td>\n      <td>1.473273</td>\n      <td>16.664298</td>\n    </tr>\n    <tr>\n      <th>30</th>\n      <td>31</td>\n      <td>390.046507</td>\n      <td>390.046507</td>\n      <td>390.160277</td>\n      <td>0.0</td>\n      <td>405.345278</td>\n      <td>405.345278</td>\n      <td>407.027707</td>\n      <td>407.027707</td>\n      <td>0.000000</td>\n      <td>405.345278</td>\n      <td>1.682428</td>\n      <td>16.981200</td>\n    </tr>\n    <tr>\n      <th>31</th>\n      <td>32</td>\n      <td>394.563985</td>\n      <td>394.563985</td>\n      <td>394.687530</td>\n      <td>0.0</td>\n      <td>409.964312</td>\n      <td>409.964312</td>\n      <td>410.327119</td>\n      <td>410.327119</td>\n      <td>0.000000</td>\n      <td>409.964312</td>\n      <td>0.362807</td>\n      <td>15.763134</td>\n    </tr>\n    <tr>\n      <th>32</th>\n      <td>33</td>\n      <td>424.035714</td>\n      <td>424.035714</td>\n      <td>424.162916</td>\n      <td>0.0</td>\n      <td>439.184180</td>\n      <td>439.184180</td>\n      <td>440.968481</td>\n      <td>440.968481</td>\n      <td>0.000000</td>\n      <td>439.184180</td>\n      <td>1.784300</td>\n      <td>16.932767</td>\n    </tr>\n    <tr>\n      <th>33</th>\n      <td>34</td>\n      <td>467.978028</td>\n      <td>467.978028</td>\n      <td>468.080723</td>\n      <td>0.0</td>\n      <td>483.210405</td>\n      <td>483.210405</td>\n      <td>483.391632</td>\n      <td>483.391632</td>\n      <td>0.000000</td>\n      <td>483.210405</td>\n      <td>0.181227</td>\n      <td>15.413604</td>\n    </tr>\n    <tr>\n      <th>34</th>\n      <td>35</td>\n      <td>483.238397</td>\n      <td>483.238397</td>\n      <td>483.399963</td>\n      <td>0.0</td>\n      <td>498.424497</td>\n      <td>498.424497</td>\n      <td>498.717430</td>\n      <td>498.717430</td>\n      <td>0.000000</td>\n      <td>498.424497</td>\n      <td>0.292932</td>\n      <td>15.479032</td>\n    </tr>\n  </tbody>\n</table>\n</div>"
     },
     "metadata": {},
     "execution_count": 161
    }
   ],
   "source": [
    "bank_customer_log_df = compute_durations(bank_customer_log_df)\n",
    "bank_customer_log_df"
   ]
  },
  {
   "cell_type": "code",
   "execution_count": 20,
   "metadata": {},
   "outputs": [
    {
     "output_type": "display_data",
     "data": {
      "text/plain": "<Figure size 432x288 with 1 Axes>",
      "image/svg+xml": "<?xml version=\"1.0\" encoding=\"utf-8\" standalone=\"no\"?>\r\n<!DOCTYPE svg PUBLIC \"-//W3C//DTD SVG 1.1//EN\"\r\n  \"http://www.w3.org/Graphics/SVG/1.1/DTD/svg11.dtd\">\r\n<!-- Created with matplotlib (https://matplotlib.org/) -->\r\n<svg height=\"248.518125pt\" version=\"1.1\" viewBox=\"0 0 368.925 248.518125\" width=\"368.925pt\" xmlns=\"http://www.w3.org/2000/svg\" xmlns:xlink=\"http://www.w3.org/1999/xlink\">\r\n <metadata>\r\n  <rdf:RDF xmlns:cc=\"http://creativecommons.org/ns#\" xmlns:dc=\"http://purl.org/dc/elements/1.1/\" xmlns:rdf=\"http://www.w3.org/1999/02/22-rdf-syntax-ns#\">\r\n   <cc:Work>\r\n    <dc:type rdf:resource=\"http://purl.org/dc/dcmitype/StillImage\"/>\r\n    <dc:date>2021-06-23T19:54:24.176524</dc:date>\r\n    <dc:format>image/svg+xml</dc:format>\r\n    <dc:creator>\r\n     <cc:Agent>\r\n      <dc:title>Matplotlib v3.3.4, https://matplotlib.org/</dc:title>\r\n     </cc:Agent>\r\n    </dc:creator>\r\n   </cc:Work>\r\n  </rdf:RDF>\r\n </metadata>\r\n <defs>\r\n  <style type=\"text/css\">*{stroke-linecap:butt;stroke-linejoin:round;}</style>\r\n </defs>\r\n <g id=\"figure_1\">\r\n  <g id=\"patch_1\">\r\n   <path d=\"M -0 248.518125 \r\nL 368.925 248.518125 \r\nL 368.925 0 \r\nL -0 0 \r\nz\r\n\" style=\"fill:none;\"/>\r\n  </g>\r\n  <g id=\"axes_1\">\r\n   <g id=\"patch_2\">\r\n    <path d=\"M 26.925 224.64 \r\nL 361.725 224.64 \r\nL 361.725 7.2 \r\nL 26.925 7.2 \r\nz\r\n\" style=\"fill:#ffffff;\"/>\r\n   </g>\r\n   <g id=\"patch_3\">\r\n    <path clip-path=\"url(#p7eebb2a871)\" d=\"M 42.143182 224.64 \r\nL 72.579545 224.64 \r\nL 72.579545 17.554286 \r\nL 42.143182 17.554286 \r\nz\r\n\" style=\"fill:#1f77b4;\"/>\r\n   </g>\r\n   <g id=\"patch_4\">\r\n    <path clip-path=\"url(#p7eebb2a871)\" d=\"M 72.579545 224.64 \r\nL 103.015909 224.64 \r\nL 103.015909 114.194286 \r\nL 72.579545 114.194286 \r\nz\r\n\" style=\"fill:#1f77b4;\"/>\r\n   </g>\r\n   <g id=\"patch_5\">\r\n    <path clip-path=\"url(#p7eebb2a871)\" d=\"M 103.015909 224.64 \r\nL 133.452273 224.64 \r\nL 133.452273 169.417143 \r\nL 103.015909 169.417143 \r\nz\r\n\" style=\"fill:#1f77b4;\"/>\r\n   </g>\r\n   <g id=\"patch_6\">\r\n    <path clip-path=\"url(#p7eebb2a871)\" d=\"M 133.452273 224.64 \r\nL 163.888636 224.64 \r\nL 163.888636 155.611429 \r\nL 133.452273 155.611429 \r\nz\r\n\" style=\"fill:#1f77b4;\"/>\r\n   </g>\r\n   <g id=\"patch_7\">\r\n    <path clip-path=\"url(#p7eebb2a871)\" d=\"M 163.888636 224.64 \r\nL 194.325 224.64 \r\nL 194.325 224.64 \r\nL 163.888636 224.64 \r\nz\r\n\" style=\"fill:#1f77b4;\"/>\r\n   </g>\r\n   <g id=\"patch_8\">\r\n    <path clip-path=\"url(#p7eebb2a871)\" d=\"M 194.325 224.64 \r\nL 224.761364 224.64 \r\nL 224.761364 224.64 \r\nL 194.325 224.64 \r\nz\r\n\" style=\"fill:#1f77b4;\"/>\r\n   </g>\r\n   <g id=\"patch_9\">\r\n    <path clip-path=\"url(#p7eebb2a871)\" d=\"M 224.761364 224.64 \r\nL 255.197727 224.64 \r\nL 255.197727 224.64 \r\nL 224.761364 224.64 \r\nz\r\n\" style=\"fill:#1f77b4;\"/>\r\n   </g>\r\n   <g id=\"patch_10\">\r\n    <path clip-path=\"url(#p7eebb2a871)\" d=\"M 255.197727 224.64 \r\nL 285.634091 224.64 \r\nL 285.634091 224.64 \r\nL 255.197727 224.64 \r\nz\r\n\" style=\"fill:#1f77b4;\"/>\r\n   </g>\r\n   <g id=\"patch_11\">\r\n    <path clip-path=\"url(#p7eebb2a871)\" d=\"M 285.634091 224.64 \r\nL 316.070455 224.64 \r\nL 316.070455 224.64 \r\nL 285.634091 224.64 \r\nz\r\n\" style=\"fill:#1f77b4;\"/>\r\n   </g>\r\n   <g id=\"patch_12\">\r\n    <path clip-path=\"url(#p7eebb2a871)\" d=\"M 316.070455 224.64 \r\nL 346.506818 224.64 \r\nL 346.506818 210.834286 \r\nL 316.070455 210.834286 \r\nz\r\n\" style=\"fill:#1f77b4;\"/>\r\n   </g>\r\n   <g id=\"matplotlib.axis_1\">\r\n    <g id=\"xtick_1\">\r\n     <g id=\"line2d_1\">\r\n      <defs>\r\n       <path d=\"M 0 0 \r\nL 0 3.5 \r\n\" id=\"m4a8589f82c\" style=\"stroke:#000000;stroke-width:0.8;\"/>\r\n      </defs>\r\n      <g>\r\n       <use style=\"stroke:#000000;stroke-width:0.8;\" x=\"60.49353\" xlink:href=\"#m4a8589f82c\" y=\"224.64\"/>\r\n      </g>\r\n     </g>\r\n     <g id=\"text_1\">\r\n      <!-- 16 -->\r\n      <g transform=\"translate(54.13103 239.238437)scale(0.1 -0.1)\">\r\n       <defs>\r\n        <path d=\"M 12.40625 8.296875 \r\nL 28.515625 8.296875 \r\nL 28.515625 63.921875 \r\nL 10.984375 60.40625 \r\nL 10.984375 69.390625 \r\nL 28.421875 72.90625 \r\nL 38.28125 72.90625 \r\nL 38.28125 8.296875 \r\nL 54.390625 8.296875 \r\nL 54.390625 0 \r\nL 12.40625 0 \r\nz\r\n\" id=\"DejaVuSans-49\"/>\r\n        <path d=\"M 33.015625 40.375 \r\nQ 26.375 40.375 22.484375 35.828125 \r\nQ 18.609375 31.296875 18.609375 23.390625 \r\nQ 18.609375 15.53125 22.484375 10.953125 \r\nQ 26.375 6.390625 33.015625 6.390625 \r\nQ 39.65625 6.390625 43.53125 10.953125 \r\nQ 47.40625 15.53125 47.40625 23.390625 \r\nQ 47.40625 31.296875 43.53125 35.828125 \r\nQ 39.65625 40.375 33.015625 40.375 \r\nz\r\nM 52.59375 71.296875 \r\nL 52.59375 62.3125 \r\nQ 48.875 64.0625 45.09375 64.984375 \r\nQ 41.3125 65.921875 37.59375 65.921875 \r\nQ 27.828125 65.921875 22.671875 59.328125 \r\nQ 17.53125 52.734375 16.796875 39.40625 \r\nQ 19.671875 43.65625 24.015625 45.921875 \r\nQ 28.375 48.1875 33.59375 48.1875 \r\nQ 44.578125 48.1875 50.953125 41.515625 \r\nQ 57.328125 34.859375 57.328125 23.390625 \r\nQ 57.328125 12.15625 50.6875 5.359375 \r\nQ 44.046875 -1.421875 33.015625 -1.421875 \r\nQ 20.359375 -1.421875 13.671875 8.265625 \r\nQ 6.984375 17.96875 6.984375 36.375 \r\nQ 6.984375 53.65625 15.1875 63.9375 \r\nQ 23.390625 74.21875 37.203125 74.21875 \r\nQ 40.921875 74.21875 44.703125 73.484375 \r\nQ 48.484375 72.75 52.59375 71.296875 \r\nz\r\n\" id=\"DejaVuSans-54\"/>\r\n       </defs>\r\n       <use xlink:href=\"#DejaVuSans-49\"/>\r\n       <use x=\"63.623047\" xlink:href=\"#DejaVuSans-54\"/>\r\n      </g>\r\n     </g>\r\n    </g>\r\n    <g id=\"xtick_2\">\r\n     <g id=\"line2d_2\">\r\n      <g>\r\n       <use style=\"stroke:#000000;stroke-width:0.8;\" x=\"113.035691\" xlink:href=\"#m4a8589f82c\" y=\"224.64\"/>\r\n      </g>\r\n     </g>\r\n     <g id=\"text_2\">\r\n      <!-- 18 -->\r\n      <g transform=\"translate(106.673191 239.238437)scale(0.1 -0.1)\">\r\n       <defs>\r\n        <path d=\"M 31.78125 34.625 \r\nQ 24.75 34.625 20.71875 30.859375 \r\nQ 16.703125 27.09375 16.703125 20.515625 \r\nQ 16.703125 13.921875 20.71875 10.15625 \r\nQ 24.75 6.390625 31.78125 6.390625 \r\nQ 38.8125 6.390625 42.859375 10.171875 \r\nQ 46.921875 13.96875 46.921875 20.515625 \r\nQ 46.921875 27.09375 42.890625 30.859375 \r\nQ 38.875 34.625 31.78125 34.625 \r\nz\r\nM 21.921875 38.8125 \r\nQ 15.578125 40.375 12.03125 44.71875 \r\nQ 8.5 49.078125 8.5 55.328125 \r\nQ 8.5 64.0625 14.71875 69.140625 \r\nQ 20.953125 74.21875 31.78125 74.21875 \r\nQ 42.671875 74.21875 48.875 69.140625 \r\nQ 55.078125 64.0625 55.078125 55.328125 \r\nQ 55.078125 49.078125 51.53125 44.71875 \r\nQ 48 40.375 41.703125 38.8125 \r\nQ 48.828125 37.15625 52.796875 32.3125 \r\nQ 56.78125 27.484375 56.78125 20.515625 \r\nQ 56.78125 9.90625 50.3125 4.234375 \r\nQ 43.84375 -1.421875 31.78125 -1.421875 \r\nQ 19.734375 -1.421875 13.25 4.234375 \r\nQ 6.78125 9.90625 6.78125 20.515625 \r\nQ 6.78125 27.484375 10.78125 32.3125 \r\nQ 14.796875 37.15625 21.921875 38.8125 \r\nz\r\nM 18.3125 54.390625 \r\nQ 18.3125 48.734375 21.84375 45.5625 \r\nQ 25.390625 42.390625 31.78125 42.390625 \r\nQ 38.140625 42.390625 41.71875 45.5625 \r\nQ 45.3125 48.734375 45.3125 54.390625 \r\nQ 45.3125 60.0625 41.71875 63.234375 \r\nQ 38.140625 66.40625 31.78125 66.40625 \r\nQ 25.390625 66.40625 21.84375 63.234375 \r\nQ 18.3125 60.0625 18.3125 54.390625 \r\nz\r\n\" id=\"DejaVuSans-56\"/>\r\n       </defs>\r\n       <use xlink:href=\"#DejaVuSans-49\"/>\r\n       <use x=\"63.623047\" xlink:href=\"#DejaVuSans-56\"/>\r\n      </g>\r\n     </g>\r\n    </g>\r\n    <g id=\"xtick_3\">\r\n     <g id=\"line2d_3\">\r\n      <g>\r\n       <use style=\"stroke:#000000;stroke-width:0.8;\" x=\"165.577852\" xlink:href=\"#m4a8589f82c\" y=\"224.64\"/>\r\n      </g>\r\n     </g>\r\n     <g id=\"text_3\">\r\n      <!-- 20 -->\r\n      <g transform=\"translate(159.215352 239.238437)scale(0.1 -0.1)\">\r\n       <defs>\r\n        <path d=\"M 19.1875 8.296875 \r\nL 53.609375 8.296875 \r\nL 53.609375 0 \r\nL 7.328125 0 \r\nL 7.328125 8.296875 \r\nQ 12.9375 14.109375 22.625 23.890625 \r\nQ 32.328125 33.6875 34.8125 36.53125 \r\nQ 39.546875 41.84375 41.421875 45.53125 \r\nQ 43.3125 49.21875 43.3125 52.78125 \r\nQ 43.3125 58.59375 39.234375 62.25 \r\nQ 35.15625 65.921875 28.609375 65.921875 \r\nQ 23.96875 65.921875 18.8125 64.3125 \r\nQ 13.671875 62.703125 7.8125 59.421875 \r\nL 7.8125 69.390625 \r\nQ 13.765625 71.78125 18.9375 73 \r\nQ 24.125 74.21875 28.421875 74.21875 \r\nQ 39.75 74.21875 46.484375 68.546875 \r\nQ 53.21875 62.890625 53.21875 53.421875 \r\nQ 53.21875 48.921875 51.53125 44.890625 \r\nQ 49.859375 40.875 45.40625 35.40625 \r\nQ 44.1875 33.984375 37.640625 27.21875 \r\nQ 31.109375 20.453125 19.1875 8.296875 \r\nz\r\n\" id=\"DejaVuSans-50\"/>\r\n        <path d=\"M 31.78125 66.40625 \r\nQ 24.171875 66.40625 20.328125 58.90625 \r\nQ 16.5 51.421875 16.5 36.375 \r\nQ 16.5 21.390625 20.328125 13.890625 \r\nQ 24.171875 6.390625 31.78125 6.390625 \r\nQ 39.453125 6.390625 43.28125 13.890625 \r\nQ 47.125 21.390625 47.125 36.375 \r\nQ 47.125 51.421875 43.28125 58.90625 \r\nQ 39.453125 66.40625 31.78125 66.40625 \r\nz\r\nM 31.78125 74.21875 \r\nQ 44.046875 74.21875 50.515625 64.515625 \r\nQ 56.984375 54.828125 56.984375 36.375 \r\nQ 56.984375 17.96875 50.515625 8.265625 \r\nQ 44.046875 -1.421875 31.78125 -1.421875 \r\nQ 19.53125 -1.421875 13.0625 8.265625 \r\nQ 6.59375 17.96875 6.59375 36.375 \r\nQ 6.59375 54.828125 13.0625 64.515625 \r\nQ 19.53125 74.21875 31.78125 74.21875 \r\nz\r\n\" id=\"DejaVuSans-48\"/>\r\n       </defs>\r\n       <use xlink:href=\"#DejaVuSans-50\"/>\r\n       <use x=\"63.623047\" xlink:href=\"#DejaVuSans-48\"/>\r\n      </g>\r\n     </g>\r\n    </g>\r\n    <g id=\"xtick_4\">\r\n     <g id=\"line2d_4\">\r\n      <g>\r\n       <use style=\"stroke:#000000;stroke-width:0.8;\" x=\"218.120013\" xlink:href=\"#m4a8589f82c\" y=\"224.64\"/>\r\n      </g>\r\n     </g>\r\n     <g id=\"text_4\">\r\n      <!-- 22 -->\r\n      <g transform=\"translate(211.757513 239.238437)scale(0.1 -0.1)\">\r\n       <use xlink:href=\"#DejaVuSans-50\"/>\r\n       <use x=\"63.623047\" xlink:href=\"#DejaVuSans-50\"/>\r\n      </g>\r\n     </g>\r\n    </g>\r\n    <g id=\"xtick_5\">\r\n     <g id=\"line2d_5\">\r\n      <g>\r\n       <use style=\"stroke:#000000;stroke-width:0.8;\" x=\"270.662174\" xlink:href=\"#m4a8589f82c\" y=\"224.64\"/>\r\n      </g>\r\n     </g>\r\n     <g id=\"text_5\">\r\n      <!-- 24 -->\r\n      <g transform=\"translate(264.299674 239.238437)scale(0.1 -0.1)\">\r\n       <defs>\r\n        <path d=\"M 37.796875 64.3125 \r\nL 12.890625 25.390625 \r\nL 37.796875 25.390625 \r\nz\r\nM 35.203125 72.90625 \r\nL 47.609375 72.90625 \r\nL 47.609375 25.390625 \r\nL 58.015625 25.390625 \r\nL 58.015625 17.1875 \r\nL 47.609375 17.1875 \r\nL 47.609375 0 \r\nL 37.796875 0 \r\nL 37.796875 17.1875 \r\nL 4.890625 17.1875 \r\nL 4.890625 26.703125 \r\nz\r\n\" id=\"DejaVuSans-52\"/>\r\n       </defs>\r\n       <use xlink:href=\"#DejaVuSans-50\"/>\r\n       <use x=\"63.623047\" xlink:href=\"#DejaVuSans-52\"/>\r\n      </g>\r\n     </g>\r\n    </g>\r\n    <g id=\"xtick_6\">\r\n     <g id=\"line2d_6\">\r\n      <g>\r\n       <use style=\"stroke:#000000;stroke-width:0.8;\" x=\"323.204335\" xlink:href=\"#m4a8589f82c\" y=\"224.64\"/>\r\n      </g>\r\n     </g>\r\n     <g id=\"text_6\">\r\n      <!-- 26 -->\r\n      <g transform=\"translate(316.841835 239.238437)scale(0.1 -0.1)\">\r\n       <use xlink:href=\"#DejaVuSans-50\"/>\r\n       <use x=\"63.623047\" xlink:href=\"#DejaVuSans-54\"/>\r\n      </g>\r\n     </g>\r\n    </g>\r\n   </g>\r\n   <g id=\"matplotlib.axis_2\">\r\n    <g id=\"ytick_1\">\r\n     <g id=\"line2d_7\">\r\n      <defs>\r\n       <path d=\"M 0 0 \r\nL -3.5 0 \r\n\" id=\"mde432e2f23\" style=\"stroke:#000000;stroke-width:0.8;\"/>\r\n      </defs>\r\n      <g>\r\n       <use style=\"stroke:#000000;stroke-width:0.8;\" x=\"26.925\" xlink:href=\"#mde432e2f23\" y=\"224.64\"/>\r\n      </g>\r\n     </g>\r\n     <g id=\"text_7\">\r\n      <!-- 0 -->\r\n      <g transform=\"translate(13.5625 228.439219)scale(0.1 -0.1)\">\r\n       <use xlink:href=\"#DejaVuSans-48\"/>\r\n      </g>\r\n     </g>\r\n    </g>\r\n    <g id=\"ytick_2\">\r\n     <g id=\"line2d_8\">\r\n      <g>\r\n       <use style=\"stroke:#000000;stroke-width:0.8;\" x=\"26.925\" xlink:href=\"#mde432e2f23\" y=\"197.028571\"/>\r\n      </g>\r\n     </g>\r\n     <g id=\"text_8\">\r\n      <!-- 2 -->\r\n      <g transform=\"translate(13.5625 200.82779)scale(0.1 -0.1)\">\r\n       <use xlink:href=\"#DejaVuSans-50\"/>\r\n      </g>\r\n     </g>\r\n    </g>\r\n    <g id=\"ytick_3\">\r\n     <g id=\"line2d_9\">\r\n      <g>\r\n       <use style=\"stroke:#000000;stroke-width:0.8;\" x=\"26.925\" xlink:href=\"#mde432e2f23\" y=\"169.417143\"/>\r\n      </g>\r\n     </g>\r\n     <g id=\"text_9\">\r\n      <!-- 4 -->\r\n      <g transform=\"translate(13.5625 173.216362)scale(0.1 -0.1)\">\r\n       <use xlink:href=\"#DejaVuSans-52\"/>\r\n      </g>\r\n     </g>\r\n    </g>\r\n    <g id=\"ytick_4\">\r\n     <g id=\"line2d_10\">\r\n      <g>\r\n       <use style=\"stroke:#000000;stroke-width:0.8;\" x=\"26.925\" xlink:href=\"#mde432e2f23\" y=\"141.805714\"/>\r\n      </g>\r\n     </g>\r\n     <g id=\"text_10\">\r\n      <!-- 6 -->\r\n      <g transform=\"translate(13.5625 145.604933)scale(0.1 -0.1)\">\r\n       <use xlink:href=\"#DejaVuSans-54\"/>\r\n      </g>\r\n     </g>\r\n    </g>\r\n    <g id=\"ytick_5\">\r\n     <g id=\"line2d_11\">\r\n      <g>\r\n       <use style=\"stroke:#000000;stroke-width:0.8;\" x=\"26.925\" xlink:href=\"#mde432e2f23\" y=\"114.194286\"/>\r\n      </g>\r\n     </g>\r\n     <g id=\"text_11\">\r\n      <!-- 8 -->\r\n      <g transform=\"translate(13.5625 117.993504)scale(0.1 -0.1)\">\r\n       <use xlink:href=\"#DejaVuSans-56\"/>\r\n      </g>\r\n     </g>\r\n    </g>\r\n    <g id=\"ytick_6\">\r\n     <g id=\"line2d_12\">\r\n      <g>\r\n       <use style=\"stroke:#000000;stroke-width:0.8;\" x=\"26.925\" xlink:href=\"#mde432e2f23\" y=\"86.582857\"/>\r\n      </g>\r\n     </g>\r\n     <g id=\"text_12\">\r\n      <!-- 10 -->\r\n      <g transform=\"translate(7.2 90.382076)scale(0.1 -0.1)\">\r\n       <use xlink:href=\"#DejaVuSans-49\"/>\r\n       <use x=\"63.623047\" xlink:href=\"#DejaVuSans-48\"/>\r\n      </g>\r\n     </g>\r\n    </g>\r\n    <g id=\"ytick_7\">\r\n     <g id=\"line2d_13\">\r\n      <g>\r\n       <use style=\"stroke:#000000;stroke-width:0.8;\" x=\"26.925\" xlink:href=\"#mde432e2f23\" y=\"58.971429\"/>\r\n      </g>\r\n     </g>\r\n     <g id=\"text_13\">\r\n      <!-- 12 -->\r\n      <g transform=\"translate(7.2 62.770647)scale(0.1 -0.1)\">\r\n       <use xlink:href=\"#DejaVuSans-49\"/>\r\n       <use x=\"63.623047\" xlink:href=\"#DejaVuSans-50\"/>\r\n      </g>\r\n     </g>\r\n    </g>\r\n    <g id=\"ytick_8\">\r\n     <g id=\"line2d_14\">\r\n      <g>\r\n       <use style=\"stroke:#000000;stroke-width:0.8;\" x=\"26.925\" xlink:href=\"#mde432e2f23\" y=\"31.36\"/>\r\n      </g>\r\n     </g>\r\n     <g id=\"text_14\">\r\n      <!-- 14 -->\r\n      <g transform=\"translate(7.2 35.159219)scale(0.1 -0.1)\">\r\n       <use xlink:href=\"#DejaVuSans-49\"/>\r\n       <use x=\"63.623047\" xlink:href=\"#DejaVuSans-52\"/>\r\n      </g>\r\n     </g>\r\n    </g>\r\n   </g>\r\n   <g id=\"patch_13\">\r\n    <path d=\"M 26.925 224.64 \r\nL 26.925 7.2 \r\n\" style=\"fill:none;stroke:#000000;stroke-linecap:square;stroke-linejoin:miter;stroke-width:0.8;\"/>\r\n   </g>\r\n   <g id=\"patch_14\">\r\n    <path d=\"M 361.725 224.64 \r\nL 361.725 7.2 \r\n\" style=\"fill:none;stroke:#000000;stroke-linecap:square;stroke-linejoin:miter;stroke-width:0.8;\"/>\r\n   </g>\r\n   <g id=\"patch_15\">\r\n    <path d=\"M 26.925 224.64 \r\nL 361.725 224.64 \r\n\" style=\"fill:none;stroke:#000000;stroke-linecap:square;stroke-linejoin:miter;stroke-width:0.8;\"/>\r\n   </g>\r\n   <g id=\"patch_16\">\r\n    <path d=\"M 26.925 7.2 \r\nL 361.725 7.2 \r\n\" style=\"fill:none;stroke:#000000;stroke-linecap:square;stroke-linejoin:miter;stroke-width:0.8;\"/>\r\n   </g>\r\n  </g>\r\n </g>\r\n <defs>\r\n  <clipPath id=\"p7eebb2a871\">\r\n   <rect height=\"217.44\" width=\"334.8\" x=\"26.925\" y=\"7.2\"/>\r\n  </clipPath>\r\n </defs>\r\n</svg>\r\n",
      "image/png": "[encoded data removed]"
     },
     "metadata": {
      "needs_background": "light"
     }
    }
   ],
   "source": [
    "plt.hist(bank_customer_log_df['time_in_system']);"
   ]
  },
  {
   "cell_type": "code",
   "execution_count": 22,
   "metadata": {},
   "outputs": [
    {
     "output_type": "execute_result",
     "data": {
      "text/plain": [
       "       wait_for_greeter  waiting_for_banker_time  open_account_time  \\\n",
       "count         33.000000                33.000000          33.000000   \n",
       "mean           0.008285               261.820670           1.645843   \n",
       "std            0.047593               142.137459           2.163737   \n",
       "min            0.000000                27.049301           0.031678   \n",
       "25%            0.000000               167.310248           0.277209   \n",
       "50%            0.000000               244.987352           1.119340   \n",
       "75%            0.000000               366.454048           1.936016   \n",
       "max            0.273403               523.433872          11.498047   \n",
       "\n",
       "       time_in_system  \n",
       "count       33.000000  \n",
       "mean        17.239084  \n",
       "std          2.128189  \n",
       "min         15.301500  \n",
       "25%         15.936359  \n",
       "50%         16.586612  \n",
       "75%         18.182484  \n",
       "max         26.887001  "
      ],
      "text/html": "<div>\n<style scoped>\n    .dataframe tbody tr th:only-of-type {\n        vertical-align: middle;\n    }\n\n    .dataframe tbody tr th {\n        vertical-align: top;\n    }\n\n    .dataframe thead th {\n        text-align: right;\n    }\n</style>\n<table border=\"1\" class=\"dataframe\">\n  <thead>\n    <tr style=\"text-align: right;\">\n      <th></th>\n      <th>wait_for_greeter</th>\n      <th>waiting_for_banker_time</th>\n      <th>open_account_time</th>\n      <th>time_in_system</th>\n    </tr>\n  </thead>\n  <tbody>\n    <tr>\n      <th>count</th>\n      <td>33.000000</td>\n      <td>33.000000</td>\n      <td>33.000000</td>\n      <td>33.000000</td>\n    </tr>\n    <tr>\n      <th>mean</th>\n      <td>0.008285</td>\n      <td>261.820670</td>\n      <td>1.645843</td>\n      <td>17.239084</td>\n    </tr>\n    <tr>\n      <th>std</th>\n      <td>0.047593</td>\n      <td>142.137459</td>\n      <td>2.163737</td>\n      <td>2.128189</td>\n    </tr>\n    <tr>\n      <th>min</th>\n      <td>0.000000</td>\n      <td>27.049301</td>\n      <td>0.031678</td>\n      <td>15.301500</td>\n    </tr>\n    <tr>\n      <th>25%</th>\n      <td>0.000000</td>\n      <td>167.310248</td>\n      <td>0.277209</td>\n      <td>15.936359</td>\n    </tr>\n    <tr>\n      <th>50%</th>\n      <td>0.000000</td>\n      <td>244.987352</td>\n      <td>1.119340</td>\n      <td>16.586612</td>\n    </tr>\n    <tr>\n      <th>75%</th>\n      <td>0.000000</td>\n      <td>366.454048</td>\n      <td>1.936016</td>\n      <td>18.182484</td>\n    </tr>\n    <tr>\n      <th>max</th>\n      <td>0.273403</td>\n      <td>523.433872</td>\n      <td>11.498047</td>\n      <td>26.887001</td>\n    </tr>\n  </tbody>\n</table>\n</div>"
     },
     "metadata": {},
     "execution_count": 22
    }
   ],
   "source": [
    "bank_customer_log_df.loc[:, ['wait_for_greeter', 'waiting_for_banker_time',\n",
    "                              'open_account_time', 'time_in_system']].describe()"
   ]
  }
 ],
 "metadata": {
  "interpreter": {
   "hash": "6e773fbeb6b834f92b861c3e490622dc9246978f97dc901f642f86251481dd7f"
  },
  "kernelspec": {
   "name": "python3",
   "display_name": "Python 3.7.10 64-bit ('aap': conda)"
  },
  "language_info": {
   "codemirror_mode": {
    "name": "ipython",
    "version": 3
   },
   "file_extension": ".py",
   "mimetype": "text/x-python",
   "name": "python",
   "nbconvert_exporter": "python",
   "pygments_lexer": "ipython3",
   "version": "3.7.10"
  },
  "toc-autonumbering": true
 },
 "nbformat": 4,
 "nbformat_minor": 4
}